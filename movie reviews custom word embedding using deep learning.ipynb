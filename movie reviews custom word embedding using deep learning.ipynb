{
 "cells": [
  {
   "cell_type": "markdown",
   "metadata": {},
   "source": [
    "# Custom Embeddings using movie reviews dataset\n",
    "\n",
    "    - Get all documents in list\n",
    "    - Has each document to get it's sequence\n",
    "    - Pass each document so that they are all of same size\n",
    "    - Create a Sequential Model\n",
    "    - Add Embedding layer which takes \n",
    "        - size of vocab\n",
    "        - desired dimensions of embeddings\n",
    "        - size of input sequences\n",
    "    - Once we train the model we can save the embeddings layer for use later\n",
    "    \n",
    "    This notebook assumes that you have the imdb reviews downloaded in unzipped in a directory called imdb along with the notebook. If not then please download the reviews."
   ]
  },
  {
   "cell_type": "code",
   "execution_count": 1,
   "metadata": {},
   "outputs": [
    {
     "name": "stdout",
     "output_type": "stream",
     "text": [
      "Number of reviews is 25000\n",
      "Number of labels is 25000\n"
     ]
    }
   ],
   "source": [
    "import os\n",
    "import random\n",
    "\n",
    "imdb_dir = './imdb/train'\n",
    "reviews = []\n",
    "labels = []\n",
    "\n",
    "def read_reviews_label (imdb_dir, label):\n",
    "    dir_name = os.path.join(imdb_dir, label)\n",
    "    \n",
    "    for fname in os.listdir(dir_name):\n",
    "        if (fname[-4:]=='.txt'):\n",
    "            f = open (os.path.join(dir_name, fname), encoding='utf-8', mode='r')\n",
    "            review = f.read()\n",
    "            reviews.append(review)\n",
    "            f.close()\n",
    "            if (label == 'pos'):\n",
    "                labels.append(1)\n",
    "            if (label == 'neg'):\n",
    "                labels.append(0)\n",
    "                \n",
    "#read positive & negative reviews\n",
    "read_reviews_label(imdb_dir, 'pos')\n",
    "read_reviews_label(imdb_dir, 'neg')\n",
    "\n",
    "#shuffle the reviews and labels list together so that we have a good mix\n",
    "mapIndexPosition = list(zip(reviews, labels))\n",
    "random.shuffle(mapIndexPosition)\n",
    "reviews, labels = zip(*mapIndexPosition)\n",
    "\n",
    "print ('Number of reviews is %d'%(len(reviews)))\n",
    "print ('Number of labels is %d'%(len(labels)))"
   ]
  },
  {
   "cell_type": "markdown",
   "metadata": {},
   "source": [
    "### Step 1: - Tokenize and Create Vocab"
   ]
  },
  {
   "cell_type": "code",
   "execution_count": 2,
   "metadata": {},
   "outputs": [
    {
     "name": "stderr",
     "output_type": "stream",
     "text": [
      "Using TensorFlow backend.\n"
     ]
    },
    {
     "name": "stdout",
     "output_type": "stream",
     "text": [
      "Number of sequences is  25000\n",
      "Vocabulary size is 88582 and size of padded reviews is (25000, 999)\n"
     ]
    }
   ],
   "source": [
    "from keras.preprocessing.text import Tokenizer\n",
    "from keras.preprocessing.sequence import pad_sequences\n",
    "from sklearn.model_selection import train_test_split\n",
    "import numpy as np\n",
    "\n",
    "labels = np.array(labels)\n",
    "#define the overall size of vocabulary taking into account all the reviews\n",
    "max_words = 9999\n",
    "\n",
    "# tokenize all reviews into tokens where each token represents a word. here we are restricting number of tokens to 9999\n",
    "def tokenize_document(p_reviews, max_words):\n",
    "    tokenizer = Tokenizer(num_words=max_words)\n",
    "    tokenizer.fit_on_texts(p_reviews)\n",
    "    \n",
    "    sequences = tokenizer.texts_to_sequences(p_reviews)\n",
    "    print ('Number of sequences is ', len(sequences))\n",
    "    \n",
    "    word_index  = tokenizer.word_index\n",
    "    \n",
    "    return (word_index, sequences)\n",
    "\n",
    "(word_index, sequences) = tokenize_document(reviews, max_words)\n",
    "\n",
    "words_per_review = 999\n",
    "# pad each sequence so that each sequence (which represents one review) has same shape.\n",
    "def pad_documents (sequences, words_per_review):\n",
    "    padded_reviews = pad_sequences (sequences, maxlen=words_per_review, padding='post')\n",
    "    return padded_reviews\n",
    "\n",
    "padded_reviews = pad_documents(sequences, words_per_review)\n",
    "\n",
    "print ('Vocabulary size is %d and size of padded reviews is %s'%(len(word_index), padded_reviews.shape))"
   ]
  },
  {
   "cell_type": "markdown",
   "metadata": {},
   "source": [
    "### Step 2: - Define Model"
   ]
  },
  {
   "cell_type": "code",
   "execution_count": 4,
   "metadata": {},
   "outputs": [
    {
     "name": "stdout",
     "output_type": "stream",
     "text": [
      "_________________________________________________________________\n",
      "Layer (type)                 Output Shape              Param #   \n",
      "=================================================================\n",
      "embedding_2 (Embedding)      (None, 999, 100)          8858300   \n",
      "_________________________________________________________________\n",
      "flatten_2 (Flatten)          (None, 99900)             0         \n",
      "_________________________________________________________________\n",
      "dense_2 (Dense)              (None, 1)                 99901     \n",
      "=================================================================\n",
      "Total params: 8,958,201\n",
      "Trainable params: 8,958,201\n",
      "Non-trainable params: 0\n",
      "_________________________________________________________________\n",
      "Train on 17500 samples, validate on 7500 samples\n",
      "Epoch 1/5\n",
      "17500/17500 [==============================] - 107s 6ms/step - loss: 0.4574 - acc: 0.7715 - val_loss: 0.3347 - val_acc: 0.8519\n",
      "Epoch 2/5\n",
      "17500/17500 [==============================] - 107s 6ms/step - loss: 0.1648 - acc: 0.9431 - val_loss: 0.2883 - val_acc: 0.8828\n",
      "Epoch 3/5\n",
      "17500/17500 [==============================] - 107s 6ms/step - loss: 0.0510 - acc: 0.9926 - val_loss: 0.3070 - val_acc: 0.8799\n",
      "Epoch 4/5\n",
      "17500/17500 [==============================] - 107s 6ms/step - loss: 0.0160 - acc: 0.9991 - val_loss: 0.3259 - val_acc: 0.8819\n",
      "Epoch 5/5\n",
      "17500/17500 [==============================] - 107s 6ms/step - loss: 0.0067 - acc: 0.9999 - val_loss: 0.3503 - val_acc: 0.8801\n"
     ]
    }
   ],
   "source": [
    "from keras.models import Sequential\n",
    "from keras.layers import Embedding, Flatten, Dense\n",
    "from keras.utils.vis_utils import plot_model\n",
    "\n",
    "model = Sequential()\n",
    "model.add(Embedding(input_dim=len(word_index)+1, output_dim=100, input_length=(words_per_review)))\n",
    "model.add(Flatten())\n",
    "model.add(Dense(1, activation='sigmoid'))\n",
    "model.compile(optimizer='adam', loss='binary_crossentropy', metrics=['accuracy'])\n",
    "model.summary()\n",
    "\n",
    "#plot model and save as png file\n",
    "#plot_model(model, to_file='reviews_embedding_model.png', show_shapes=True)\n",
    "\n",
    "#fit the model on training data\n",
    "history = model.fit (padded_reviews, labels, validation_split=0.3, epochs=5, batch_size=32)"
   ]
  },
  {
   "cell_type": "code",
   "execution_count": 5,
   "metadata": {},
   "outputs": [
    {
     "data": {
      "image/png": "[encoded data removed]",
      "text/plain": [
       "<Figure size 432x288 with 1 Axes>"
      ]
     },
     "metadata": {
      "needs_background": "light"
     },
     "output_type": "display_data"
    }
   ],
   "source": [
    "import matplotlib.pyplot as plt\n",
    "%matplotlib inline\n",
    "\n",
    "## Visualizing Model Accuracy on Training & Validation data\n",
    "trainAccHistory = history.history['acc']\n",
    "validationAccHistory = history.history['val_acc']\n",
    "\n",
    "plt.plot(trainAccHistory)\n",
    "plt.plot(validationAccHistory)\n",
    "plt.xlabel('Epochs')\n",
    "plt.ylabel('Accuracy')\n",
    "plt.title('Train Vs Validation Accuracy')\n",
    "plt.legend(['Train','Validation'])\n",
    "plt.show()"
   ]
  },
  {
   "cell_type": "markdown",
   "metadata": {},
   "source": [
    "### Step 4 - Create Matrix of Word Embeddings in our Vocab\n",
    "\n",
    "    - Read words from our word dictionary\n",
    "    - Read the embeddings weights from the embedding layer\n",
    "    - For each word in the dictionary read it's embedding weight and add to a dictionary"
   ]
  },
  {
   "cell_type": "code",
   "execution_count": 6,
   "metadata": {},
   "outputs": [
    {
     "name": "stdout",
     "output_type": "stream",
     "text": [
      "Shape of weights from embedding layer is  (88583, 100)\n",
      "Size of vocab is  88582\n"
     ]
    }
   ],
   "source": [
    "import numpy as np\n",
    "embeddings_index = {}\n",
    "\n",
    "# get weights from the embedding layer\n",
    "embeddings = model.layers[0].get_weights()[0]\n",
    "\n",
    "print ('Shape of weights from embedding layer is ', embeddings.shape)\n",
    "print ('Size of vocab is ', len(word_index))\n",
    "\n",
    "for word, i in word_index.items():\n",
    "    if (i<len(embeddings)):\n",
    "        embeddings_index[word] =  embeddings[i]"
   ]
  },
  {
   "cell_type": "markdown",
   "metadata": {},
   "source": [
    "#### Save the Reviews Embedding"
   ]
  },
  {
   "cell_type": "code",
   "execution_count": 7,
   "metadata": {},
   "outputs": [],
   "source": [
    "def save_list (p_embeddings, filename):\n",
    "    #open file\n",
    "    file = open (filename, 'w', encoding='utf-8')\n",
    "    \n",
    "    for key, value in p_embeddings.items():\n",
    "        word = key + ' '\n",
    "        we = ''\n",
    "        for val in value:\n",
    "            embedding = str(val)\n",
    "            we = we + embedding + ' '\n",
    "        \n",
    "        embedding = word + we + '\\n'\n",
    "        \n",
    "        #write embedding to file\n",
    "        file.write(embedding)\n",
    "    \n",
    "    #close file\n",
    "    file.close()\n",
    "    \n",
    "save_list(embeddings_index, 'custom.movie.reviews.embeddings.100D.txt')"
   ]
  },
  {
   "cell_type": "markdown",
   "metadata": {},
   "source": [
    "#### Reload the saved embeddings and train model using it"
   ]
  },
  {
   "cell_type": "code",
   "execution_count": 8,
   "metadata": {},
   "outputs": [
    {
     "name": "stdout",
     "output_type": "stream",
     "text": [
      "Found 88078 word embeddings\n"
     ]
    }
   ],
   "source": [
    "embedding_dir = './'\n",
    "loaded_embeddings_matrix = {}\n",
    "\n",
    "f = open ('custom.movie.reviews.embeddings.100D.txt','r', encoding='utf-8')\n",
    "for line in f:\n",
    "    values = line.split()\n",
    "    word = values[0]\n",
    "    coefs = np.asarray(values[1:])\n",
    "    loaded_embeddings_matrix[word]=coefs\n",
    "\n",
    "f.close()\n",
    "print ('Found %s word embeddings'%(len(loaded_embeddings_matrix)))"
   ]
  },
  {
   "cell_type": "markdown",
   "metadata": {},
   "source": [
    "#### Retrain model on loaded embeddings"
   ]
  },
  {
   "cell_type": "code",
   "execution_count": 9,
   "metadata": {},
   "outputs": [
    {
     "name": "stdout",
     "output_type": "stream",
     "text": [
      "_________________________________________________________________\n",
      "Layer (type)                 Output Shape              Param #   \n",
      "=================================================================\n",
      "embedding_3 (Embedding)      (None, 999, 100)          8858300   \n",
      "_________________________________________________________________\n",
      "flatten_3 (Flatten)          (None, 99900)             0         \n",
      "_________________________________________________________________\n",
      "dense_3 (Dense)              (None, 1)                 99901     \n",
      "=================================================================\n",
      "Total params: 8,958,201\n",
      "Trainable params: 99,901\n",
      "Non-trainable params: 8,858,300\n",
      "_________________________________________________________________\n",
      "Train on 17500 samples, validate on 7500 samples\n",
      "Epoch 1/50\n",
      "17500/17500 [==============================] - 8s 445us/step - loss: 0.7149 - acc: 0.5206 - val_loss: 0.6871 - val_acc: 0.5203\n",
      "Epoch 2/50\n",
      "17500/17500 [==============================] - 7s 414us/step - loss: 0.6491 - acc: 0.6230 - val_loss: 0.7044 - val_acc: 0.5220\n",
      "Epoch 3/50\n",
      "17500/17500 [==============================] - 7s 415us/step - loss: 0.6021 - acc: 0.6866 - val_loss: 0.6823 - val_acc: 0.5621\n",
      "Epoch 4/50\n",
      "17500/17500 [==============================] - 7s 424us/step - loss: 0.5659 - acc: 0.7178 - val_loss: 0.7124 - val_acc: 0.5379\n",
      "Epoch 5/50\n",
      "17500/17500 [==============================] - 7s 422us/step - loss: 0.5325 - acc: 0.7533 - val_loss: 0.6783 - val_acc: 0.5789\n",
      "Epoch 6/50\n",
      "17500/17500 [==============================] - 7s 426us/step - loss: 0.4986 - acc: 0.7927 - val_loss: 0.6659 - val_acc: 0.5953\n",
      "Epoch 7/50\n",
      "17500/17500 [==============================] - 8s 429us/step - loss: 0.4774 - acc: 0.8005 - val_loss: 0.6744 - val_acc: 0.5952\n",
      "Epoch 8/50\n",
      "17500/17500 [==============================] - 8s 432us/step - loss: 0.4534 - acc: 0.8210 - val_loss: 0.6638 - val_acc: 0.5995\n",
      "Epoch 9/50\n",
      "17500/17500 [==============================] - 8s 429us/step - loss: 0.4351 - acc: 0.8312 - val_loss: 0.6660 - val_acc: 0.6039\n",
      "Epoch 10/50\n",
      "17500/17500 [==============================] - 8s 432us/step - loss: 0.4164 - acc: 0.8456 - val_loss: 0.6747 - val_acc: 0.6033\n",
      "Epoch 11/50\n",
      "17500/17500 [==============================] - 7s 423us/step - loss: 0.3975 - acc: 0.8605 - val_loss: 0.7746 - val_acc: 0.5577\n",
      "Epoch 12/50\n",
      "17500/17500 [==============================] - 8s 431us/step - loss: 0.3937 - acc: 0.8504 - val_loss: 0.6905 - val_acc: 0.5964\n",
      "Epoch 13/50\n",
      "17500/17500 [==============================] - 7s 426us/step - loss: 0.3758 - acc: 0.8653 - val_loss: 0.6854 - val_acc: 0.5996\n",
      "Epoch 14/50\n",
      "17500/17500 [==============================] - 7s 428us/step - loss: 0.3627 - acc: 0.8734 - val_loss: 0.6834 - val_acc: 0.6052\n",
      "Epoch 15/50\n",
      "17500/17500 [==============================] - 7s 422us/step - loss: 0.3565 - acc: 0.8753 - val_loss: 0.7212 - val_acc: 0.5900\n",
      "Epoch 16/50\n",
      "17500/17500 [==============================] - 7s 425us/step - loss: 0.3458 - acc: 0.8756 - val_loss: 0.7013 - val_acc: 0.6043\n",
      "Epoch 17/50\n",
      "17500/17500 [==============================] - 7s 418us/step - loss: 0.3293 - acc: 0.8914 - val_loss: 0.6987 - val_acc: 0.6071\n",
      "Epoch 18/50\n",
      "17500/17500 [==============================] - 8s 434us/step - loss: 0.3184 - acc: 0.8960 - val_loss: 0.7467 - val_acc: 0.5892\n",
      "Epoch 19/50\n",
      "17500/17500 [==============================] - 8s 430us/step - loss: 0.3147 - acc: 0.8965 - val_loss: 0.7094 - val_acc: 0.6055\n",
      "Epoch 20/50\n",
      "17500/17500 [==============================] - 7s 424us/step - loss: 0.3038 - acc: 0.9038 - val_loss: 0.7248 - val_acc: 0.5976\n",
      "Epoch 21/50\n",
      "17500/17500 [==============================] - 7s 420us/step - loss: 0.2981 - acc: 0.9059 - val_loss: 0.7314 - val_acc: 0.6001\n",
      "Epoch 22/50\n",
      "17500/17500 [==============================] - 7s 422us/step - loss: 0.2860 - acc: 0.9121 - val_loss: 0.7219 - val_acc: 0.6043\n",
      "Epoch 23/50\n",
      "17500/17500 [==============================] - 7s 420us/step - loss: 0.2797 - acc: 0.9135 - val_loss: 0.7388 - val_acc: 0.6041\n",
      "Epoch 24/50\n",
      "17500/17500 [==============================] - 7s 419us/step - loss: 0.2716 - acc: 0.9192 - val_loss: 0.7408 - val_acc: 0.6033\n",
      "Epoch 25/50\n",
      "17500/17500 [==============================] - 7s 423us/step - loss: 0.2666 - acc: 0.9218 - val_loss: 0.7540 - val_acc: 0.5993\n",
      "Epoch 26/50\n",
      "17500/17500 [==============================] - 7s 426us/step - loss: 0.2574 - acc: 0.9270 - val_loss: 0.7496 - val_acc: 0.6024\n",
      "Epoch 27/50\n",
      "17500/17500 [==============================] - 7s 422us/step - loss: 0.2569 - acc: 0.9253 - val_loss: 0.7545 - val_acc: 0.6036\n",
      "Epoch 28/50\n",
      "17500/17500 [==============================] - 7s 420us/step - loss: 0.2439 - acc: 0.9334 - val_loss: 0.7593 - val_acc: 0.6025\n",
      "Epoch 29/50\n",
      "17500/17500 [==============================] - 7s 421us/step - loss: 0.2426 - acc: 0.9319 - val_loss: 0.7618 - val_acc: 0.6060\n",
      "Epoch 30/50\n",
      "17500/17500 [==============================] - 7s 419us/step - loss: 0.2360 - acc: 0.9378 - val_loss: 0.7679 - val_acc: 0.6045\n",
      "Epoch 31/50\n",
      "17500/17500 [==============================] - 7s 419us/step - loss: 0.2314 - acc: 0.9382 - val_loss: 0.7868 - val_acc: 0.5999\n",
      "Epoch 32/50\n",
      "17500/17500 [==============================] - 7s 421us/step - loss: 0.2270 - acc: 0.9409 - val_loss: 0.7818 - val_acc: 0.6016\n",
      "Epoch 33/50\n",
      "17500/17500 [==============================] - 7s 425us/step - loss: 0.2218 - acc: 0.9426 - val_loss: 0.7907 - val_acc: 0.6024\n",
      "Epoch 34/50\n",
      "17500/17500 [==============================] - 7s 420us/step - loss: 0.2239 - acc: 0.9363 - val_loss: 0.8347 - val_acc: 0.5911\n",
      "Epoch 35/50\n",
      "17500/17500 [==============================] - 7s 419us/step - loss: 0.2127 - acc: 0.9466 - val_loss: 0.8018 - val_acc: 0.6025\n",
      "Epoch 36/50\n",
      "17500/17500 [==============================] - 7s 422us/step - loss: 0.2076 - acc: 0.9503 - val_loss: 0.8040 - val_acc: 0.6052\n",
      "Epoch 37/50\n",
      "17500/17500 [==============================] - 7s 425us/step - loss: 0.2058 - acc: 0.9481 - val_loss: 0.8157 - val_acc: 0.6027\n",
      "Epoch 38/50\n",
      "17500/17500 [==============================] - 7s 421us/step - loss: 0.1984 - acc: 0.9525 - val_loss: 0.8233 - val_acc: 0.6011\n",
      "Epoch 39/50\n",
      "17500/17500 [==============================] - 7s 419us/step - loss: 0.1920 - acc: 0.9561 - val_loss: 0.8197 - val_acc: 0.6049\n",
      "Epoch 40/50\n",
      "17500/17500 [==============================] - 7s 423us/step - loss: 0.1899 - acc: 0.9585 - val_loss: 0.8597 - val_acc: 0.5968\n",
      "Epoch 41/50\n",
      "17500/17500 [==============================] - 7s 420us/step - loss: 0.1926 - acc: 0.9514 - val_loss: 0.8555 - val_acc: 0.5973\n",
      "Epoch 42/50\n",
      "17500/17500 [==============================] - 7s 422us/step - loss: 0.1826 - acc: 0.9594 - val_loss: 0.8438 - val_acc: 0.6012\n",
      "Epoch 43/50\n",
      "17500/17500 [==============================] - 7s 419us/step - loss: 0.1807 - acc: 0.9594 - val_loss: 0.9593 - val_acc: 0.5816\n",
      "Epoch 44/50\n",
      "17500/17500 [==============================] - 7s 420us/step - loss: 0.1801 - acc: 0.9586 - val_loss: 0.8500 - val_acc: 0.6051\n",
      "Epoch 45/50\n",
      "17500/17500 [==============================] - 7s 420us/step - loss: 0.1741 - acc: 0.9623 - val_loss: 0.8706 - val_acc: 0.5983\n",
      "Epoch 46/50\n",
      "17500/17500 [==============================] - 7s 420us/step - loss: 0.1681 - acc: 0.9674 - val_loss: 0.9418 - val_acc: 0.5896\n",
      "Epoch 47/50\n",
      "17500/17500 [==============================] - 7s 426us/step - loss: 0.1712 - acc: 0.9603 - val_loss: 0.8821 - val_acc: 0.5993\n",
      "Epoch 48/50\n",
      "17500/17500 [==============================] - 8s 433us/step - loss: 0.1649 - acc: 0.9657 - val_loss: 0.8809 - val_acc: 0.5975\n",
      "Epoch 49/50\n",
      "17500/17500 [==============================] - 8s 443us/step - loss: 0.1627 - acc: 0.9647 - val_loss: 0.8822 - val_acc: 0.6015\n",
      "Epoch 50/50\n",
      "17500/17500 [==============================] - 8s 438us/step - loss: 0.1574 - acc: 0.9702 - val_loss: 0.8870 - val_acc: 0.6015\n"
     ]
    }
   ],
   "source": [
    "from keras.models import Sequential\n",
    "from keras.layers import Embedding, Flatten, Dense\n",
    "from keras.utils.vis_utils import plot_model\n",
    "\n",
    "loaded_model = Sequential()\n",
    "loaded_model.add(Embedding(input_dim=(len(word_index)+1), output_dim=100, input_length=(words_per_review)))\n",
    "loaded_model.add(Flatten())\n",
    "\n",
    "loaded_model.layers[0].set_weights = ([loaded_embeddings_matrix])\n",
    "loaded_model.layers[0].trainable = False\n",
    "\n",
    "loaded_model.add(Dense(1, activation='sigmoid'))\n",
    "loaded_model.compile(optimizer='adam', loss='binary_crossentropy', metrics=['accuracy'])\n",
    "loaded_model.summary()\n",
    "\n",
    "#plot model and save as png file\n",
    "#plot_model(model, to_file='reviews_embedding_model.png', show_shapes=True)\n",
    "\n",
    "#fit the model on training data\n",
    "history = loaded_model.fit (padded_reviews, labels, validation_split=0.3, epochs=50)"
   ]
  },
  {
   "cell_type": "markdown",
   "metadata": {},
   "source": [
    "# Leverage Embeddings to find similar words"
   ]
  },
  {
   "cell_type": "code",
   "execution_count": 10,
   "metadata": {},
   "outputs": [
    {
     "data": {
      "text/plain": [
       "(88582, 100)"
      ]
     },
     "execution_count": 10,
     "metadata": {},
     "output_type": "execute_result"
    }
   ],
   "source": [
    "from gensim.scripts.glove2word2vec import glove2word2vec\n",
    "\n",
    "#load the GloVe word embeddings file which has a 100 dimension representation for each word. Convert that into a word2vec supported format\n",
    "glove2word2vec('custom.movie.reviews.embeddings.100D.txt','word2vec.custom.movie.reviews.embeddings.100D.txt')"
   ]
  },
  {
   "cell_type": "code",
   "execution_count": 11,
   "metadata": {},
   "outputs": [],
   "source": [
    "from gensim.models import KeyedVectors\n",
    "\n",
    "# load the wordvec file\n",
    "model = KeyedVectors.load_word2vec_format('word2vec.custom.movie.reviews.embeddings.100D.txt')"
   ]
  },
  {
   "cell_type": "code",
   "execution_count": 13,
   "metadata": {},
   "outputs": [
    {
     "name": "stdout",
     "output_type": "stream",
     "text": [
      "[('rare', 0.9228371381759644), ('voight', 0.9076741337776184), ('gem', 0.9050614237785339), ('lonely', 0.9041692018508911), ('wonderfully', 0.9006940126419067), ('ruby', 0.8986232280731201), ('delightful', 0.8982964754104614), ('finest', 0.8936723470687866), ('victoria', 0.8925464153289795), ('excellently', 0.8922926187515259)]\n"
     ]
    }
   ],
   "source": [
    "# most similar words\n",
    "print (model.most_similar(positive=['nice'], negative=['awful']))"
   ]
  },
  {
   "cell_type": "markdown",
   "metadata": {},
   "source": [
    "#### Visualize embeddings using PCA\n",
    "\n",
    "    - In tour word embedding there are some 80K words with 100 dimensional embedding. We will select just 50 words and try to visualize them after doing a dimension reduction via PCA"
   ]
  },
  {
   "cell_type": "code",
   "execution_count": 16,
   "metadata": {},
   "outputs": [
    {
     "name": "stderr",
     "output_type": "stream",
     "text": [
      "C:\\MachineLearning\\anaconda\\lib\\site-packages\\ipykernel_launcher.py:1: DeprecationWarning: Call to deprecated `wv` (Attribute will be removed in 4.0.0, use self instead).\n",
      "  \"\"\"Entry point for launching an IPython kernel.\n"
     ]
    },
    {
     "data": {
      "image/png": "[encoded data removed]",
      "text/plain": [
       "<Figure size 1080x1080 with 1 Axes>"
      ]
     },
     "metadata": {
      "needs_background": "light"
     },
     "output_type": "display_data"
    }
   ],
   "source": [
    "vocab = model.wv.vocab\n",
    "words = []\n",
    "for i, word in enumerate(vocab):\n",
    "    words.append(word)\n",
    "\n",
    "X = model[vocab]\n",
    "\n",
    "from sklearn.decomposition import PCA\n",
    "import matplotlib.pyplot as plt\n",
    "%matplotlib inline\n",
    "\n",
    "z = PCA(n_components=2)\n",
    "pca_model = z.fit(X)\n",
    "components = pca_model.transform(X)\n",
    "\n",
    "num_words_to_show=50\n",
    "\n",
    "plt.figure(figsize=(15,15))\n",
    "plt.scatter(components[0:num_words_to_show,0],components[0:num_words_to_show,1])\n",
    "for i in range(0, num_words_to_show):\n",
    "    plt.annotate(words[i], xy=(components[i,0],components[i,1]))\n",
    "plt.show()"
   ]
  },
  {
   "cell_type": "code",
   "execution_count": null,
   "metadata": {},
   "outputs": [],
   "source": []
  }
 ],
 "metadata": {
  "kernelspec": {
   "display_name": "Python 3",
   "language": "python",
   "name": "python3"
  },
  "language_info": {
   "codemirror_mode": {
    "name": "ipython",
    "version": 3
   },
   "file_extension": ".py",
   "mimetype": "text/x-python",
   "name": "python",
   "nbconvert_exporter": "python",
   "pygments_lexer": "ipython3",
   "version": "3.7.3"
  }
 },
 "nbformat": 4,
 "nbformat_minor": 2
}
