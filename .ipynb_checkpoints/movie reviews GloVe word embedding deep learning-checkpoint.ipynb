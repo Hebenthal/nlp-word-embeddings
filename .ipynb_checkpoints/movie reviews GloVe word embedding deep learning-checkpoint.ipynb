{
 "cells": [
  {
   "cell_type": "markdown",
   "metadata": {},
   "source": [
    "# GloVe Embeddings using movie reviews dataset\n",
    "\n",
    "    - Get all documents in list\n",
    "    - Has each document to get it's sequence\n",
    "    - Pass each document so that they are all of same size\n",
    "    - load the GloVe word embeddings\n",
    "    - Define deep learning model which takes \n",
    "        - size of vocab\n",
    "        - desired dimensions of embeddings\n",
    "        - size of input sequences\n",
    "        - embeddings matrix read from words in our vocab and embeddings from GloVe\n",
    "    - Once we train the model we can save the embeddings layer for use later\n",
    "    \n",
    "    This notebook assumes that you have the imdb reviews downloaded in unzipped in a directory called imdb along with the notebook. If not then please download the reviews."
   ]
  },
  {
   "cell_type": "code",
   "execution_count": 1,
   "metadata": {},
   "outputs": [
    {
     "name": "stdout",
     "output_type": "stream",
     "text": [
      "Number of reviews is 25000\n",
      "Number of labels is 25000\n"
     ]
    }
   ],
   "source": [
    "import os\n",
    "import random\n",
    "\n",
    "imdb_dir = './imdb/train'\n",
    "reviews = []\n",
    "labels = []\n",
    "\n",
    "def read_reviews_label (imdb_dir, label):\n",
    "    dir_name = os.path.join(imdb_dir, label)\n",
    "    \n",
    "    for fname in os.listdir(dir_name):\n",
    "        if (fname[-4:]=='.txt'):\n",
    "            f = open (os.path.join(dir_name, fname), encoding='utf-8', mode='r')\n",
    "            review = f.read()\n",
    "            reviews.append(review)\n",
    "            f.close()\n",
    "            if (label == 'pos'):\n",
    "                labels.append(1)\n",
    "            if (label == 'neg'):\n",
    "                labels.append(0)\n",
    "                \n",
    "#read positive & negative reviews\n",
    "read_reviews_label(imdb_dir, 'pos')\n",
    "read_reviews_label(imdb_dir, 'neg')\n",
    "\n",
    "#shuffle the reviews and labels list together so that we have a good mix\n",
    "mapIndexPosition = list(zip(reviews, labels))\n",
    "random.shuffle(mapIndexPosition)\n",
    "reviews, labels = zip(*mapIndexPosition)\n",
    "\n",
    "print ('Number of reviews is %d'%(len(reviews)))\n",
    "print ('Number of labels is %d'%(len(labels)))"
   ]
  },
  {
   "cell_type": "markdown",
   "metadata": {},
   "source": [
    "### Step 1: - Tokenize and Create Vocab"
   ]
  },
  {
   "cell_type": "code",
   "execution_count": 2,
   "metadata": {},
   "outputs": [
    {
     "name": "stderr",
     "output_type": "stream",
     "text": [
      "Using TensorFlow backend.\n"
     ]
    },
    {
     "name": "stdout",
     "output_type": "stream",
     "text": [
      "Number of sequences is  25000\n",
      "Vocabulary size is 88582 and size of padded reviews is (25000, 999)\n"
     ]
    }
   ],
   "source": [
    "from keras.preprocessing.text import Tokenizer\n",
    "from keras.preprocessing.sequence import pad_sequences\n",
    "from sklearn.model_selection import train_test_split\n",
    "import numpy as np\n",
    "\n",
    "labels = np.array(labels)\n",
    "#define the overall size of vocabulary taking into account all the reviews\n",
    "max_words = 9999\n",
    "\n",
    "# tokenize all reviews into tokens where each token represents a word. here we are restricting number of tokens to 9999\n",
    "def tokenize_document(p_reviews, max_words):\n",
    "    tokenizer = Tokenizer(num_words=max_words)\n",
    "    tokenizer.fit_on_texts(p_reviews)\n",
    "    \n",
    "    sequences = tokenizer.texts_to_sequences(p_reviews)\n",
    "    print ('Number of sequences is ', len(sequences))\n",
    "    \n",
    "    word_index  = tokenizer.word_index\n",
    "    \n",
    "    return (word_index, sequences)\n",
    "\n",
    "(word_index, sequences) = tokenize_document(reviews, max_words)\n",
    "\n",
    "words_per_review = 999\n",
    "# pad each sequence so that each sequence (which represents one review) has same shape.\n",
    "def pad_documents (sequences, words_per_review):\n",
    "    padded_reviews = pad_sequences (sequences, maxlen=words_per_review, padding='post')\n",
    "    return padded_reviews\n",
    "\n",
    "padded_reviews = pad_documents(sequences, words_per_review)\n",
    "\n",
    "print ('Vocabulary size is %d and size of padded reviews is %s'%(len(word_index), padded_reviews.shape))"
   ]
  },
  {
   "cell_type": "markdown",
   "metadata": {},
   "source": [
    "#### Load GloVe embeddings"
   ]
  },
  {
   "cell_type": "code",
   "execution_count": 7,
   "metadata": {},
   "outputs": [
    {
     "name": "stdout",
     "output_type": "stream",
     "text": [
      "Found 400000 word embeddings\n"
     ]
    }
   ],
   "source": [
    "embedding_dir = './'\n",
    "embeddings_index = {}\n",
    "\n",
    "f = open ('glove.6B.100d.txt','r', encoding='utf-8')\n",
    "for line in f:\n",
    "    values = line.split()\n",
    "    word = values[0]\n",
    "    coefs = np.asarray(values[1:])\n",
    "    embeddings_index[word]=coefs\n",
    "\n",
    "f.close()\n",
    "print ('Found %s word embeddings'%(len(embeddings_index)))"
   ]
  },
  {
   "cell_type": "markdown",
   "metadata": {},
   "source": [
    "#### Prepare Matrix of our vocab and GloVe embeddings"
   ]
  },
  {
   "cell_type": "code",
   "execution_count": 8,
   "metadata": {},
   "outputs": [
    {
     "name": "stdout",
     "output_type": "stream",
     "text": [
      "(9999, 100)\n"
     ]
    }
   ],
   "source": [
    "embedding_dir = './'\n",
    "loaded_embeddings_matrix = np.zeros((max_words, 100))\n",
    "\n",
    "for word, i in word_index.items():\n",
    "    if (i<max_words):\n",
    "        if word in embeddings_index.keys():\n",
    "            embedding_vector = embeddings_index[word]\n",
    "            loaded_embeddings_matrix[i] = embedding_vector\n",
    "\n",
    "print (loaded_embeddings_matrix.shape)"
   ]
  },
  {
   "cell_type": "markdown",
   "metadata": {},
   "source": [
    "#### Retrain model on loaded embeddings"
   ]
  },
  {
   "cell_type": "code",
   "execution_count": 9,
   "metadata": {},
   "outputs": [
    {
     "name": "stdout",
     "output_type": "stream",
     "text": [
      "WARNING:tensorflow:From C:\\MachineLearning\\anaconda\\lib\\site-packages\\tensorflow\\python\\framework\\op_def_library.py:263: colocate_with (from tensorflow.python.framework.ops) is deprecated and will be removed in a future version.\n",
      "Instructions for updating:\n",
      "Colocations handled automatically by placer.\n",
      "_________________________________________________________________\n",
      "Layer (type)                 Output Shape              Param #   \n",
      "=================================================================\n",
      "embedding_1 (Embedding)      (None, 999, 100)          8858300   \n",
      "_________________________________________________________________\n",
      "flatten_1 (Flatten)          (None, 99900)             0         \n",
      "_________________________________________________________________\n",
      "dense_1 (Dense)              (None, 1)                 99901     \n",
      "=================================================================\n",
      "Total params: 8,958,201\n",
      "Trainable params: 99,901\n",
      "Non-trainable params: 8,858,300\n",
      "_________________________________________________________________\n",
      "WARNING:tensorflow:From C:\\MachineLearning\\anaconda\\lib\\site-packages\\tensorflow\\python\\ops\\math_ops.py:3066: to_int32 (from tensorflow.python.ops.math_ops) is deprecated and will be removed in a future version.\n",
      "Instructions for updating:\n",
      "Use tf.cast instead.\n",
      "Train on 17500 samples, validate on 7500 samples\n",
      "Epoch 1/20\n",
      "17500/17500 [==============================] - 8s 472us/step - loss: 0.7263 - acc: 0.5126 - val_loss: 0.6849 - val_acc: 0.5329\n",
      "Epoch 2/20\n",
      "17500/17500 [==============================] - 8s 465us/step - loss: 0.6574 - acc: 0.6091 - val_loss: 0.7094 - val_acc: 0.5167\n",
      "Epoch 3/20\n",
      "17500/17500 [==============================] - 8s 467us/step - loss: 0.6043 - acc: 0.6895 - val_loss: 0.6794 - val_acc: 0.5657\n",
      "Epoch 4/20\n",
      "17500/17500 [==============================] - 8s 471us/step - loss: 0.5677 - acc: 0.7253 - val_loss: 0.7197 - val_acc: 0.5376\n",
      "Epoch 5/20\n",
      "17500/17500 [==============================] - 8s 432us/step - loss: 0.5382 - acc: 0.7501 - val_loss: 0.7522 - val_acc: 0.5251\n",
      "Epoch 6/20\n",
      "17500/17500 [==============================] - 8s 435us/step - loss: 0.5094 - acc: 0.7755 - val_loss: 0.7252 - val_acc: 0.5475\n",
      "Epoch 7/20\n",
      "17500/17500 [==============================] - 7s 427us/step - loss: 0.4849 - acc: 0.7918 - val_loss: 0.6739 - val_acc: 0.5977\n",
      "Epoch 8/20\n",
      "17500/17500 [==============================] - 7s 428us/step - loss: 0.4608 - acc: 0.8131 - val_loss: 0.6611 - val_acc: 0.6067\n",
      "Epoch 9/20\n",
      "17500/17500 [==============================] - 8s 431us/step - loss: 0.4453 - acc: 0.8169 - val_loss: 0.7321 - val_acc: 0.5664\n",
      "Epoch 10/20\n",
      "17500/17500 [==============================] - 7s 427us/step - loss: 0.4219 - acc: 0.8409 - val_loss: 0.6737 - val_acc: 0.6020\n",
      "Epoch 11/20\n",
      "17500/17500 [==============================] - 7s 427us/step - loss: 0.4095 - acc: 0.8442 - val_loss: 0.6695 - val_acc: 0.6079\n",
      "Epoch 12/20\n",
      "17500/17500 [==============================] - 8s 447us/step - loss: 0.3990 - acc: 0.8488 - val_loss: 0.7176 - val_acc: 0.5789\n",
      "Epoch 13/20\n",
      "17500/17500 [==============================] - 8s 437us/step - loss: 0.3779 - acc: 0.8690 - val_loss: 0.6828 - val_acc: 0.6007\n",
      "Epoch 14/20\n",
      "17500/17500 [==============================] - 8s 433us/step - loss: 0.3703 - acc: 0.8690 - val_loss: 0.7308 - val_acc: 0.5859\n",
      "Epoch 15/20\n",
      "17500/17500 [==============================] - 8s 431us/step - loss: 0.3616 - acc: 0.8701 - val_loss: 0.6921 - val_acc: 0.6091\n",
      "Epoch 16/20\n",
      "17500/17500 [==============================] - 8s 435us/step - loss: 0.3456 - acc: 0.8849 - val_loss: 0.6902 - val_acc: 0.6072\n",
      "Epoch 17/20\n",
      "17500/17500 [==============================] - 8s 433us/step - loss: 0.3458 - acc: 0.8739 - val_loss: 0.6947 - val_acc: 0.6079\n",
      "Epoch 18/20\n",
      "17500/17500 [==============================] - 8s 434us/step - loss: 0.3279 - acc: 0.8898 - val_loss: 0.6974 - val_acc: 0.6080\n",
      "Epoch 19/20\n",
      "17500/17500 [==============================] - 8s 429us/step - loss: 0.3160 - acc: 0.8991 - val_loss: 0.7133 - val_acc: 0.6029\n",
      "Epoch 20/20\n",
      "17500/17500 [==============================] - 7s 421us/step - loss: 0.3059 - acc: 0.9053 - val_loss: 0.7412 - val_acc: 0.6012\n"
     ]
    }
   ],
   "source": [
    "from keras.models import Sequential\n",
    "from keras.layers import Embedding, Flatten, Dense\n",
    "from keras.utils.vis_utils import plot_model\n",
    "\n",
    "loaded_model = Sequential()\n",
    "loaded_model.add(Embedding(input_dim=(len(word_index)+1), output_dim=100, input_length=(words_per_review)))\n",
    "loaded_model.add(Flatten())\n",
    "\n",
    "loaded_model.layers[0].set_weights = ([loaded_embeddings_matrix])\n",
    "loaded_model.layers[0].trainable = False\n",
    "\n",
    "loaded_model.add(Dense(1, activation='sigmoid'))\n",
    "loaded_model.compile(optimizer='adam', loss='binary_crossentropy', metrics=['accuracy'])\n",
    "loaded_model.summary()\n",
    "\n",
    "#plot model and save as png file\n",
    "#plot_model(model, to_file='reviews_embedding_model.png', show_shapes=True)\n",
    "\n",
    "#fit the model on training data\n",
    "history = loaded_model.fit (padded_reviews, labels, validation_split=0.3, epochs=20)"
   ]
  },
  {
   "cell_type": "code",
   "execution_count": 11,
   "metadata": {},
   "outputs": [
    {
     "data": {
      "image/png": "[encoded data removed]",
      "text/plain": [
       "<Figure size 432x288 with 1 Axes>"
      ]
     },
     "metadata": {
      "needs_background": "light"
     },
     "output_type": "display_data"
    },
    {
     "data": {
      "image/png": "[encoded data removed]",
      "text/plain": [
       "<Figure size 432x288 with 1 Axes>"
      ]
     },
     "metadata": {
      "needs_background": "light"
     },
     "output_type": "display_data"
    }
   ],
   "source": [
    "import matplotlib.pyplot as plt\n",
    "%matplotlib inline\n",
    "\n",
    "## Visualizing Model Accuracy on Training & Validation data\n",
    "trainAccHistory = history.history['acc']\n",
    "validationAccHistory = history.history['val_acc']\n",
    "\n",
    "plt.plot(trainAccHistory)\n",
    "plt.plot(validationAccHistory)\n",
    "plt.xlabel('Epochs')\n",
    "plt.ylabel('Accuracy')\n",
    "plt.title('Train Vs Validation Accuracy')\n",
    "plt.legend(['Train','Validation'])\n",
    "plt.show()\n",
    "\n",
    "trainLossHistory = history.history['loss']\n",
    "validationLossHistory = history.history['val_loss']\n",
    "\n",
    "plt.plot(trainLossHistory)\n",
    "plt.plot(validationLossHistory)\n",
    "plt.xlabel('Epochs')\n",
    "plt.ylabel('Loss')\n",
    "plt.title('Train Vs Validation Loss')\n",
    "plt.legend(['Train','Validation'])\n",
    "plt.show()"
   ]
  },
  {
   "cell_type": "markdown",
   "metadata": {},
   "source": [
    "## Summary\n",
    "\n",
    "    - We see that after loading GloVe word embeddings, our model is able to give fairly accurate results\n",
    "    - Clearly accuracy is high on training data compared to validation data\n",
    "    - Model can be trained further by training on more number of epocs and by applying other techniques like regularisation, drop out, scaling network etc."
   ]
  },
  {
   "cell_type": "markdown",
   "metadata": {},
   "source": []
  }
 ],
 "metadata": {
  "kernelspec": {
   "display_name": "Python 3",
   "language": "python",
   "name": "python3"
  },
  "language_info": {
   "codemirror_mode": {
    "name": "ipython",
    "version": 3
   },
   "file_extension": ".py",
   "mimetype": "text/x-python",
   "name": "python",
   "nbconvert_exporter": "python",
   "pygments_lexer": "ipython3",
   "version": "3.7.3"
  }
 },
 "nbformat": 4,
 "nbformat_minor": 2
}
