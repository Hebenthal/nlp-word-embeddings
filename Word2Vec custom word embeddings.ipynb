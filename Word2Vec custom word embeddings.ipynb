{
 "cells": [
  {
   "cell_type": "markdown",
   "metadata": {},
   "source": [
    "# Gensim\n",
    "\n",
    "- Gensim is a library popularly used for topic modelling, similarity retrieval and document indexing, more at https://pypi.org/project/gensim/\n",
    "- pip install gensim\n",
    "\n",
    "- Word2Vec is a technique for building word embeddings\n",
    "- Glove is a 3rd party of the shelf word embedding which has been trained over huge text"
   ]
  },
  {
   "cell_type": "code",
   "execution_count": 1,
   "metadata": {},
   "outputs": [
    {
     "name": "stderr",
     "output_type": "stream",
     "text": [
      "C:\\MachineLearning\\anaconda\\lib\\importlib\\_bootstrap.py:219: RuntimeWarning: numpy.ufunc size changed, may indicate binary incompatibility. Expected 192 from C header, got 216 from PyObject\n",
      "  return f(*args, **kwds)\n"
     ]
    }
   ],
   "source": [
    "from gensim.models import Word2Vec\n",
    "from keras.preprocessing.text import Tokenizer\n",
    "\n",
    "docs = ['well done','good word','great work','nice work','excellent!','weak','bad job','not good','poor work','could be better']"
   ]
  },
  {
   "cell_type": "code",
   "execution_count": 2,
   "metadata": {},
   "outputs": [
    {
     "name": "stdout",
     "output_type": "stream",
     "text": [
      "[['well', 'done'], ['good', 'word'], ['great', 'work'], ['nice', 'work'], ['excellent!'], ['weak'], ['bad', 'job'], ['not', 'good'], ['poor', 'work'], ['could', 'be', 'better']]\n"
     ]
    }
   ],
   "source": [
    "splitted_docs = []\n",
    "def token_to_vector(docs):\n",
    "    for doc in docs:\n",
    "        splitted_docs.append(doc.lower().split())\n",
    "\n",
    "token_to_vector(docs)\n",
    "print (splitted_docs)"
   ]
  },
  {
   "cell_type": "code",
   "execution_count": 47,
   "metadata": {},
   "outputs": [
    {
     "name": "stdout",
     "output_type": "stream",
     "text": [
      "Word2Vec(vocab=16, size=100, alpha=0.025)\n",
      "{'well': <gensim.models.keyedvectors.Vocab object at 0x0000029318A02400>, 'done': <gensim.models.keyedvectors.Vocab object at 0x0000029318A023C8>, 'good': <gensim.models.keyedvectors.Vocab object at 0x0000029318A027F0>, 'word': <gensim.models.keyedvectors.Vocab object at 0x0000029318A02390>, 'great': <gensim.models.keyedvectors.Vocab object at 0x0000029318A022E8>, 'work': <gensim.models.keyedvectors.Vocab object at 0x0000029318A022B0>, 'nice': <gensim.models.keyedvectors.Vocab object at 0x0000029318A02278>, 'excellent!': <gensim.models.keyedvectors.Vocab object at 0x0000029318A02358>, 'weak': <gensim.models.keyedvectors.Vocab object at 0x0000029318A02320>, 'bad': <gensim.models.keyedvectors.Vocab object at 0x0000029318A02828>, 'job': <gensim.models.keyedvectors.Vocab object at 0x0000029318A028D0>, 'not': <gensim.models.keyedvectors.Vocab object at 0x0000029318A02240>, 'poor': <gensim.models.keyedvectors.Vocab object at 0x0000029318A02198>, 'could': <gensim.models.keyedvectors.Vocab object at 0x0000029318A02128>, 'be': <gensim.models.keyedvectors.Vocab object at 0x0000029318A02208>, 'better': <gensim.models.keyedvectors.Vocab object at 0x0000029318A024E0>}\n",
      "Word2Vec(vocab=16, size=100, alpha=0.025)\n"
     ]
    },
    {
     "name": "stderr",
     "output_type": "stream",
     "text": [
      "C:\\MachineLearning\\anaconda\\lib\\site-packages\\gensim\\models\\base_any2vec.py:743: UserWarning: C extension not loaded, training will be slow. Install a C compiler and reinstall gensim for fast training.\n",
      "  \"C extension not loaded, training will be slow. \"\n"
     ]
    }
   ],
   "source": [
    "# train the word2vec model\n",
    "model = Word2Vec(splitted_docs, size=100, min_count=1, workers=5) #size specifies the word embedding vector dimensions\n",
    "print (model)\n",
    "print (model.wv.vocab)\n",
    "\n",
    "# save the model\n",
    "model.save('basic_model.bin')\n",
    "\n",
    "# load the model\n",
    "loaded_model = Word2Vec.load('basic_model.bin')\n",
    "print (loaded_model)"
   ]
  },
  {
   "cell_type": "markdown",
   "metadata": {},
   "source": [
    "### Visualize embeddings using PCA"
   ]
  },
  {
   "cell_type": "code",
   "execution_count": 46,
   "metadata": {},
   "outputs": [
    {
     "name": "stderr",
     "output_type": "stream",
     "text": [
      "C:\\MachineLearning\\anaconda\\lib\\site-packages\\ipykernel_launcher.py:6: DeprecationWarning: Call to deprecated `__getitem__` (Method will be removed in 4.0.0, use self.wv.__getitem__() instead).\n",
      "  \n"
     ]
    },
    {
     "data": {
      "image/png": "[encoded data removed]",
      "text/plain": [
       "<Figure size 576x360 with 1 Axes>"
      ]
     },
     "metadata": {
      "needs_background": "light"
     },
     "output_type": "display_data"
    }
   ],
   "source": [
    "vocab = loaded_model.wv.vocab\n",
    "words = []\n",
    "for i, word in enumerate(vocab):\n",
    "    words.append(word)\n",
    "\n",
    "X = loaded_model[vocab]\n",
    "\n",
    "from sklearn.decomposition import PCA\n",
    "import matplotlib.pyplot as plt\n",
    "%matplotlib inline\n",
    "\n",
    "z = PCA(n_components=2)\n",
    "pca_model = z.fit(X)\n",
    "components = pca_model.transform(X)\n",
    "plt.figure(figsize=(8,5))\n",
    "plt.scatter(components[:,0],components[:,1])\n",
    "\n",
    "words = list(loaded_model.wv.vocab)\n",
    "for i in range(0, components.shape[0]):\n",
    "    plt.annotate(words[i], xy=(components[i,0],components[i,1]))\n",
    "\n",
    "plt.show()"
   ]
  },
  {
   "cell_type": "markdown",
   "metadata": {},
   "source": [
    "### Try some word operations on our custom word embedding\n",
    "\n",
    "    - Key thing to note is that since we have created the word embedding on a very small text corpus of words, the embeddings won't be great in reflecting the actual relation between the workds. However this is an example for kicks sake so let's have some fun !!"
   ]
  },
  {
   "cell_type": "code",
   "execution_count": 42,
   "metadata": {},
   "outputs": [
    {
     "name": "stdout",
     "output_type": "stream",
     "text": [
      "0.07968407\n",
      "-0.014731359\n"
     ]
    },
    {
     "name": "stderr",
     "output_type": "stream",
     "text": [
      "C:\\MachineLearning\\anaconda\\lib\\site-packages\\ipykernel_launcher.py:2: DeprecationWarning: Call to deprecated `n_similarity` (Method will be removed in 4.0.0, use self.wv.n_similarity() instead).\n",
      "  \n",
      "C:\\MachineLearning\\anaconda\\lib\\site-packages\\ipykernel_launcher.py:3: DeprecationWarning: Call to deprecated `n_similarity` (Method will be removed in 4.0.0, use self.wv.n_similarity() instead).\n",
      "  This is separate from the ipykernel package so we can avoid doing imports until\n"
     ]
    }
   ],
   "source": [
    "# We see that bad and great are more closer to each other while bad and good are more away - let's see their similary score\n",
    "print (loaded_model.n_similarity(['bad'],['great']))\n",
    "print (loaded_model.n_similarity(['bad'],['good']))"
   ]
  },
  {
   "cell_type": "code",
   "execution_count": 44,
   "metadata": {},
   "outputs": [
    {
     "name": "stdout",
     "output_type": "stream",
     "text": [
      "[('could', 0.15680688619613647), ('great', 0.14091020822525024), ('poor', 0.07740747183561325), ('not', 0.05991830304265022), ('good', 0.05777905881404877), ('well', 0.04970854893326759), ('word', 0.019229214638471603), ('better', 0.018020104616880417), ('weak', -0.002666950225830078), ('done', -0.02189803123474121)]\n"
     ]
    },
    {
     "name": "stderr",
     "output_type": "stream",
     "text": [
      "C:\\MachineLearning\\anaconda\\lib\\site-packages\\ipykernel_launcher.py:2: DeprecationWarning: Call to deprecated `most_similar` (Method will be removed in 4.0.0, use self.wv.most_similar() instead).\n",
      "  \n"
     ]
    }
   ],
   "source": [
    "# find more similar word\n",
    "print (loaded_model.most_similar(positive=['excellent!'], negative=['nice']))"
   ]
  },
  {
   "cell_type": "code",
   "execution_count": null,
   "metadata": {},
   "outputs": [],
   "source": []
  }
 ],
 "metadata": {
  "kernelspec": {
   "display_name": "Python 3",
   "language": "python",
   "name": "python3"
  },
  "language_info": {
   "codemirror_mode": {
    "name": "ipython",
    "version": 3
   },
   "file_extension": ".py",
   "mimetype": "text/x-python",
   "name": "python",
   "nbconvert_exporter": "python",
   "pygments_lexer": "ipython3",
   "version": "3.7.3"
  }
 },
 "nbformat": 4,
 "nbformat_minor": 2
}
