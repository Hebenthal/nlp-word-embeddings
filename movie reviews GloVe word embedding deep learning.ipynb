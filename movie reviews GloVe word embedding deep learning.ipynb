{
 "cells": [
  {
   "cell_type": "markdown",
   "metadata": {},
   "source": [
    "# GloVe Embeddings using movie reviews dataset\n",
    "\n",
    "    - Get all documents in list\n",
    "    - Has each document to get it's sequence\n",
    "    - Pass each document so that they are all of same size\n",
    "    - load the GloVe word embeddings\n",
    "    - Define deep learning model which takes \n",
    "        - size of vocab\n",
    "        - desired dimensions of embeddings\n",
    "        - size of input sequences\n",
    "        - embeddings matrix read from words in our vocab and embeddings from GloVe\n",
    "    - Once we train the model we can save the embeddings layer for use later\n",
    "    \n",
    "    This notebook assumes that you have the imdb reviews downloaded in unzipped in a directory called imdb along with the notebook. If not then please download the reviews."
   ]
  },
  {
   "cell_type": "code",
   "execution_count": 1,
   "metadata": {},
   "outputs": [
    {
     "name": "stdout",
     "output_type": "stream",
     "text": [
      "Number of reviews is 25000\n",
      "Number of labels is 25000\n"
     ]
    }
   ],
   "source": [
    "import os\n",
    "import random\n",
    "\n",
    "imdb_dir = './imdb/train'\n",
    "reviews = []\n",
    "labels = []\n",
    "\n",
    "def read_reviews_label (imdb_dir, label):\n",
    "    dir_name = os.path.join(imdb_dir, label)\n",
    "    \n",
    "    for fname in os.listdir(dir_name):\n",
    "        if (fname[-4:]=='.txt'):\n",
    "            f = open (os.path.join(dir_name, fname), encoding='utf-8', mode='r')\n",
    "            review = f.read()\n",
    "            reviews.append(review)\n",
    "            f.close()\n",
    "            if (label == 'pos'):\n",
    "                labels.append(1)\n",
    "            if (label == 'neg'):\n",
    "                labels.append(0)\n",
    "                \n",
    "#read positive & negative reviews\n",
    "read_reviews_label(imdb_dir, 'pos')\n",
    "read_reviews_label(imdb_dir, 'neg')\n",
    "\n",
    "#shuffle the reviews and labels list together so that we have a good mix\n",
    "mapIndexPosition = list(zip(reviews, labels))\n",
    "random.shuffle(mapIndexPosition)\n",
    "reviews, labels = zip(*mapIndexPosition)\n",
    "\n",
    "print ('Number of reviews is %d'%(len(reviews)))\n",
    "print ('Number of labels is %d'%(len(labels)))"
   ]
  },
  {
   "cell_type": "markdown",
   "metadata": {},
   "source": [
    "### Step 1: - Tokenize and Create Vocab"
   ]
  },
  {
   "cell_type": "code",
   "execution_count": 2,
   "metadata": {},
   "outputs": [
    {
     "name": "stderr",
     "output_type": "stream",
     "text": [
      "Using TensorFlow backend.\n"
     ]
    },
    {
     "name": "stdout",
     "output_type": "stream",
     "text": [
      "Number of sequences is  25000\n",
      "Vocabulary size is 88582 and size of padded reviews is (25000, 999)\n"
     ]
    }
   ],
   "source": [
    "from keras.preprocessing.text import Tokenizer\n",
    "from keras.preprocessing.sequence import pad_sequences\n",
    "from sklearn.model_selection import train_test_split\n",
    "import numpy as np\n",
    "\n",
    "labels = np.array(labels)\n",
    "#define the overall size of vocabulary taking into account all the reviews\n",
    "max_words = 9999\n",
    "\n",
    "# tokenize all reviews into tokens where each token represents a word. here we are restricting number of tokens to 9999\n",
    "def tokenize_document(p_reviews, max_words):\n",
    "    tokenizer = Tokenizer(num_words=max_words)\n",
    "    tokenizer.fit_on_texts(p_reviews)\n",
    "    \n",
    "    sequences = tokenizer.texts_to_sequences(p_reviews)\n",
    "    print ('Number of sequences is ', len(sequences))\n",
    "    \n",
    "    word_index  = tokenizer.word_index\n",
    "    \n",
    "    return (word_index, sequences)\n",
    "\n",
    "(word_index, sequences) = tokenize_document(reviews, max_words)\n",
    "\n",
    "words_per_review = 999\n",
    "# pad each sequence so that each sequence (which represents one review) has same shape.\n",
    "def pad_documents (sequences, words_per_review):\n",
    "    padded_reviews = pad_sequences (sequences, maxlen=words_per_review, padding='post')\n",
    "    return padded_reviews\n",
    "\n",
    "padded_reviews = pad_documents(sequences, words_per_review)\n",
    "\n",
    "print ('Vocabulary size is %d and size of padded reviews is %s'%(len(word_index), padded_reviews.shape))"
   ]
  },
  {
   "cell_type": "markdown",
   "metadata": {},
   "source": [
    "#### Load GloVe embeddings"
   ]
  },
  {
   "cell_type": "code",
   "execution_count": 7,
   "metadata": {},
   "outputs": [
    {
     "name": "stdout",
     "output_type": "stream",
     "text": [
      "Found 400000 word embeddings\n"
     ]
    }
   ],
   "source": [
    "embedding_dir = './'\n",
    "embeddings_index = {}\n",
    "\n",
    "f = open ('glove.6B.100d.txt','r', encoding='utf-8')\n",
    "for line in f:\n",
    "    values = line.split()\n",
    "    word = values[0]\n",
    "    coefs = np.asarray(values[1:])\n",
    "    embeddings_index[word]=coefs\n",
    "\n",
    "f.close()\n",
    "print ('Found %s word embeddings'%(len(embeddings_index)))"
   ]
  },
  {
   "cell_type": "markdown",
   "metadata": {},
   "source": [
    "#### Prepare Matrix of our vocab and GloVe embeddings"
   ]
  },
  {
   "cell_type": "code",
   "execution_count": 8,
   "metadata": {},
   "outputs": [
    {
     "name": "stdout",
     "output_type": "stream",
     "text": [
      "(9999, 100)\n"
     ]
    }
   ],
   "source": [
    "embedding_dir = './'\n",
    "loaded_embeddings_matrix = np.zeros((max_words, 100))\n",
    "\n",
    "for word, i in word_index.items():\n",
    "    if (i<max_words):\n",
    "        if word in embeddings_index.keys():\n",
    "            embedding_vector = embeddings_index[word]\n",
    "            loaded_embeddings_matrix[i] = embedding_vector\n",
    "\n",
    "print (loaded_embeddings_matrix.shape)"
   ]
  },
  {
   "cell_type": "markdown",
   "metadata": {},
   "source": [
    "#### Retrain model on loaded embeddings"
   ]
  },
  {
   "cell_type": "code",
   "execution_count": 13,
   "metadata": {},
   "outputs": [
    {
     "name": "stdout",
     "output_type": "stream",
     "text": [
      "_________________________________________________________________\n",
      "Layer (type)                 Output Shape              Param #   \n",
      "=================================================================\n",
      "embedding_3 (Embedding)      (None, 999, 100)          8858300   \n",
      "_________________________________________________________________\n",
      "flatten_3 (Flatten)          (None, 99900)             0         \n",
      "_________________________________________________________________\n",
      "dense_3 (Dense)              (None, 1)                 99901     \n",
      "=================================================================\n",
      "Total params: 8,958,201\n",
      "Trainable params: 99,901\n",
      "Non-trainable params: 8,858,300\n",
      "_________________________________________________________________\n",
      "Train on 17500 samples, validate on 7500 samples\n",
      "Epoch 1/20\n",
      "17500/17500 [==============================] - 7s 401us/step - loss: 0.7009 - acc: 0.5233 - val_loss: 0.7227 - val_acc: 0.5093\n",
      "Epoch 2/20\n",
      "17500/17500 [==============================] - 7s 380us/step - loss: 0.6656 - acc: 0.6019 - val_loss: 0.7190 - val_acc: 0.5125\n",
      "Epoch 3/20\n",
      "17500/17500 [==============================] - 7s 381us/step - loss: 0.6383 - acc: 0.6409 - val_loss: 0.6728 - val_acc: 0.5763\n",
      "Epoch 4/20\n",
      "17500/17500 [==============================] - 7s 380us/step - loss: 0.6054 - acc: 0.7075 - val_loss: 0.6904 - val_acc: 0.5365\n",
      "Epoch 5/20\n",
      "17500/17500 [==============================] - 7s 381us/step - loss: 0.5832 - acc: 0.7277 - val_loss: 0.6618 - val_acc: 0.6012\n",
      "Epoch 6/20\n",
      "17500/17500 [==============================] - 7s 389us/step - loss: 0.5551 - acc: 0.7775 - val_loss: 0.6574 - val_acc: 0.6103\n",
      "Epoch 7/20\n",
      "17500/17500 [==============================] - 7s 381us/step - loss: 0.5390 - acc: 0.7905 - val_loss: 0.6661 - val_acc: 0.5916\n",
      "Epoch 8/20\n",
      "17500/17500 [==============================] - 7s 379us/step - loss: 0.5269 - acc: 0.7878 - val_loss: 0.6644 - val_acc: 0.5961- loss: 0.5274 - acc\n",
      "Epoch 9/20\n",
      "17500/17500 [==============================] - 7s 379us/step - loss: 0.5138 - acc: 0.7927 - val_loss: 0.6631 - val_acc: 0.5963\n",
      "Epoch 10/20\n",
      "17500/17500 [==============================] - 7s 380us/step - loss: 0.4919 - acc: 0.8190 - val_loss: 0.6550 - val_acc: 0.6101\n",
      "Epoch 11/20\n",
      "17500/17500 [==============================] - 7s 396us/step - loss: 0.4798 - acc: 0.8278 - val_loss: 0.6566 - val_acc: 0.6019\n",
      "Epoch 12/20\n",
      "17500/17500 [==============================] - 7s 383us/step - loss: 0.4679 - acc: 0.8271 - val_loss: 0.6556 - val_acc: 0.6119\n",
      "Epoch 13/20\n",
      "17500/17500 [==============================] - 7s 376us/step - loss: 0.4536 - acc: 0.8438 - val_loss: 0.6680 - val_acc: 0.6024\n",
      "Epoch 14/20\n",
      "17500/17500 [==============================] - 7s 383us/step - loss: 0.4500 - acc: 0.8333 - val_loss: 0.6828 - val_acc: 0.5808\n",
      "Epoch 15/20\n",
      "17500/17500 [==============================] - 7s 389us/step - loss: 0.4358 - acc: 0.8502 - val_loss: 0.6703 - val_acc: 0.6083\n",
      "Epoch 16/20\n",
      "17500/17500 [==============================] - 7s 375us/step - loss: 0.4311 - acc: 0.8451 - val_loss: 0.6613 - val_acc: 0.6063\n",
      "Epoch 17/20\n",
      "17500/17500 [==============================] - 7s 383us/step - loss: 0.4169 - acc: 0.8607 - val_loss: 0.6752 - val_acc: 0.5927\n",
      "Epoch 18/20\n",
      "17500/17500 [==============================] - 7s 380us/step - loss: 0.4140 - acc: 0.8554 - val_loss: 0.6629 - val_acc: 0.6075\n",
      "Epoch 19/20\n",
      "17500/17500 [==============================] - 7s 380us/step - loss: 0.3941 - acc: 0.8798 - val_loss: 0.6694 - val_acc: 0.6136\n",
      "Epoch 20/20\n",
      "17500/17500 [==============================] - 7s 377us/step - loss: 0.3891 - acc: 0.8749 - val_loss: 0.6782 - val_acc: 0.5960\n"
     ]
    }
   ],
   "source": [
    "from keras.models import Sequential\n",
    "from keras.layers import Embedding, Flatten, Dense\n",
    "from keras.utils.vis_utils import plot_model\n",
    "\n",
    "loaded_model = Sequential()\n",
    "loaded_model.add(Embedding(input_dim=(len(word_index)+1), output_dim=100, input_length=(words_per_review)))\n",
    "loaded_model.add(Flatten())\n",
    "\n",
    "loaded_model.layers[0].set_weights = ([loaded_embeddings_matrix])\n",
    "loaded_model.layers[0].trainable = False\n",
    "\n",
    "loaded_model.add(Dense(1, activation='sigmoid'))\n",
    "loaded_model.compile(optimizer='adam', loss='binary_crossentropy', metrics=['accuracy'])\n",
    "loaded_model.summary()\n",
    "\n",
    "#plot model and save as png file\n",
    "#plot_model(model, to_file='reviews_embedding_model.png', show_shapes=True)\n",
    "\n",
    "#fit the model on training data\n",
    "history = loaded_model.fit (padded_reviews, labels, validation_split=0.3, epochs=20, batch_size=100)"
   ]
  },
  {
   "cell_type": "code",
   "execution_count": 14,
   "metadata": {},
   "outputs": [
    {
     "data": {
      "image/png": "[encoded data removed]",
      "text/plain": [
       "<Figure size 432x288 with 1 Axes>"
      ]
     },
     "metadata": {
      "needs_background": "light"
     },
     "output_type": "display_data"
    },
    {
     "data": {
      "image/png": "[encoded data removed]",
      "text/plain": [
       "<Figure size 432x288 with 1 Axes>"
      ]
     },
     "metadata": {
      "needs_background": "light"
     },
     "output_type": "display_data"
    }
   ],
   "source": [
    "import matplotlib.pyplot as plt\n",
    "%matplotlib inline\n",
    "\n",
    "## Visualizing Model Accuracy on Training & Validation data\n",
    "trainAccHistory = history.history['acc']\n",
    "validationAccHistory = history.history['val_acc']\n",
    "\n",
    "plt.plot(trainAccHistory)\n",
    "plt.plot(validationAccHistory)\n",
    "plt.xlabel('Epochs')\n",
    "plt.ylabel('Accuracy')\n",
    "plt.title('Train Vs Validation Accuracy')\n",
    "plt.legend(['Train','Validation'])\n",
    "plt.show()\n",
    "\n",
    "trainLossHistory = history.history['loss']\n",
    "validationLossHistory = history.history['val_loss']\n",
    "\n",
    "plt.plot(trainLossHistory)\n",
    "plt.plot(validationLossHistory)\n",
    "plt.xlabel('Epochs')\n",
    "plt.ylabel('Loss')\n",
    "plt.title('Train Vs Validation Loss')\n",
    "plt.legend(['Train','Validation'])\n",
    "plt.show()"
   ]
  },
  {
   "cell_type": "markdown",
   "metadata": {},
   "source": [
    "## Summary\n",
    "\n",
    "    - We see that after loading GloVe word embeddings, our model is able to give fairly accurate results\n",
    "    - Clearly accuracy is high on training data compared to validation data\n",
    "    - Model can be trained further by training on more number of epocs and by applying other techniques like regularisation, drop out, scaling network etc."
   ]
  },
  {
   "cell_type": "markdown",
   "metadata": {},
   "source": []
  }
 ],
 "metadata": {
  "kernelspec": {
   "display_name": "Python 3",
   "language": "python",
   "name": "python3"
  },
  "language_info": {
   "codemirror_mode": {
    "name": "ipython",
    "version": 3
   },
   "file_extension": ".py",
   "mimetype": "text/x-python",
   "name": "python",
   "nbconvert_exporter": "python",
   "pygments_lexer": "ipython3",
   "version": "3.7.3"
  }
 },
 "nbformat": 4,
 "nbformat_minor": 2
}
