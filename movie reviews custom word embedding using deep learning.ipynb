{
 "cells": [
  {
   "cell_type": "markdown",
   "metadata": {},
   "source": [
    "# Custom Embeddings using movie reviews dataset\n",
    "\n",
    "    - This notebook attempts to do multiple things.\n",
    "        - Train a custom word embedding using the imdb movie reviews data set\n",
    "        - Train a Deep Learning classifier using learned embeddings and a single layer convolusion architecture\n",
    "        - Train a Deep Learning classifier using learned embeddings and a multi dimension layer convolusion architecture\n",
    "    \n",
    "    - Flow is as follows:\n",
    "        - Read training reviews\n",
    "        - Pre-process reviews (clean reviews, sequence them, pad them)\n",
    "        - Train the reviews using single & multi dimension convolusion layered architecture\n",
    "        - Compare performance of both the models\n",
    "        \n",
    "        - Have fun :)\n",
    "        \n",
    "    This notebook assumes that you have the imdb reviews downloaded in unzipped in a directory called imdb along with the notebook. If not then please download the reviews."
   ]
  },
  {
   "cell_type": "markdown",
   "metadata": {},
   "source": [
    "## Step 1 -> Utility Functions"
   ]
  },
  {
   "cell_type": "markdown",
   "metadata": {},
   "source": [
    "### Step 1.0 -> Clean document"
   ]
  },
  {
   "cell_type": "code",
   "execution_count": 1,
   "metadata": {},
   "outputs": [],
   "source": [
    "import re\n",
    "import string\n",
    "from nltk.corpus import stopwords\n",
    "\n",
    "def clean_doc(doc):\n",
    "    #split by white space\n",
    "    tokens = doc.split()\n",
    "    \n",
    "    #preprare for char filtering\n",
    "    re_punc = re.compile('[%s]'%re.escape(string.punctuation))\n",
    "    \n",
    "    #remove punctuation from each word\n",
    "    tokens = [re_punc.sub('',w) for w in tokens]\n",
    "    \n",
    "    #remove tokens which are not alphabetic\n",
    "    tokens = [word for word in tokens if word.isalpha()]\n",
    "    \n",
    "    #filter stop words\n",
    "    stop_words = set(stopwords.words('english'))\n",
    "    tokens = [w for w in tokens if not w in stop_words]\n",
    "    \n",
    "    #filter short tokens\n",
    "    tokens = [word for word in tokens if len(word)>2]\n",
    "    \n",
    "    tokens = ' '.join(tokens)\n",
    "    \n",
    "    return tokens"
   ]
  },
  {
   "cell_type": "markdown",
   "metadata": {},
   "source": [
    "### Step 1.1 -> Function to read labels from specified directory"
   ]
  },
  {
   "cell_type": "code",
   "execution_count": 2,
   "metadata": {},
   "outputs": [],
   "source": [
    "import os\n",
    "import random\n",
    "\n",
    "def read_reviews_label (reviews, labels, imdb_dir, label):\n",
    "    dir_name = os.path.join(imdb_dir, label)\n",
    "    \n",
    "    for fname in os.listdir(dir_name):\n",
    "        if (fname[-4:]=='.txt'):\n",
    "            f = open (os.path.join(dir_name, fname), encoding='utf-8', mode='r')\n",
    "            review = f.read()\n",
    "            cleaned_review = clean_doc(review)\n",
    "            reviews.append(cleaned_review)\n",
    "            f.close()\n",
    "            if (label == 'pos'):\n",
    "                labels.append(1)\n",
    "            if (label == 'neg'):\n",
    "                labels.append(0)\n",
    "                \n",
    "    return reviews, labels"
   ]
  },
  {
   "cell_type": "markdown",
   "metadata": {},
   "source": [
    "### Step 1.2 -> Function to tokenize the reviews"
   ]
  },
  {
   "cell_type": "code",
   "execution_count": 3,
   "metadata": {},
   "outputs": [
    {
     "name": "stderr",
     "output_type": "stream",
     "text": [
      "Using TensorFlow backend.\n"
     ]
    }
   ],
   "source": [
    "from keras.preprocessing.text import Tokenizer\n",
    "from keras.preprocessing.sequence import pad_sequences\n",
    "from sklearn.model_selection import train_test_split\n",
    "import numpy as np\n",
    "\n",
    "# tokenize all reviews into tokens where each token represents a word. here we are restricting number of tokens to 9999\n",
    "def tokenize_document():\n",
    "    \n",
    "    tokenizer = Tokenizer(num_words=10000)\n",
    "    words_per_review = 1000\n",
    "\n",
    "    tokenizer.fit_on_texts(train_reviews)\n",
    "    \n",
    "    train_sequences = tokenizer.texts_to_sequences(train_reviews)\n",
    "    train_padded_reviews = pad_sequences (train_sequences, maxlen=1000, padding='post')\n",
    "    \n",
    "    test_sequences = tokenizer.texts_to_sequences(test_reviews)\n",
    "    test_padded_reviews = pad_sequences (test_sequences, maxlen=1000, padding='post')\n",
    "    \n",
    "    word_index  = tokenizer.word_index\n",
    "    \n",
    "    return (word_index, train_padded_reviews, test_padded_reviews, tokenizer)"
   ]
  },
  {
   "cell_type": "markdown",
   "metadata": {},
   "source": [
    "### Step 1.3 - Utility function to view model performance"
   ]
  },
  {
   "cell_type": "code",
   "execution_count": 4,
   "metadata": {},
   "outputs": [],
   "source": [
    "import matplotlib.pyplot as plt\n",
    "%matplotlib inline\n",
    "\n",
    "def visualize_performance(history):\n",
    "    ## Visualizing Model Accuracy on Training & Validation data\n",
    "    trainAccHistory = history.history['acc']\n",
    "    validationAccHistory = history.history['val_acc']\n",
    "\n",
    "    plt.plot(trainAccHistory)\n",
    "    plt.plot(validationAccHistory)\n",
    "    plt.xlabel('Epochs')\n",
    "    plt.ylabel('Accuracy')\n",
    "    plt.title('Train Vs Validation Accuracy')\n",
    "    plt.legend(['Train','Validation'])\n",
    "    plt.show()"
   ]
  },
  {
   "cell_type": "markdown",
   "metadata": {},
   "source": [
    "## Step 2 -> Read training & test reviews"
   ]
  },
  {
   "cell_type": "code",
   "execution_count": 5,
   "metadata": {},
   "outputs": [
    {
     "name": "stdout",
     "output_type": "stream",
     "text": [
      "Number of reviews is 25000\n",
      "Number of labels is 25000\n"
     ]
    }
   ],
   "source": [
    "import numpy as np\n",
    "\n",
    "imdb_dir = './imdb'\n",
    "imdb_train_dir = imdb_dir+'/train'\n",
    "\n",
    "#read positive & negative reviews\n",
    "train_reviews = []\n",
    "train_labels = []\n",
    "train_reviews, train_labels = read_reviews_label(train_reviews, train_labels, imdb_train_dir, 'pos')\n",
    "train_reviews, train_labels = read_reviews_label(train_reviews, train_labels, imdb_train_dir, 'neg')\n",
    "\n",
    "#shuffle the reviews and labels list together so that we have a good mix\n",
    "mapIndexPosition = list(zip(train_reviews, train_labels))\n",
    "random.shuffle(mapIndexPosition)\n",
    "train_reviews, train_labels = zip(*mapIndexPosition)\n",
    "\n",
    "train_labels = np.array(train_labels)\n",
    "\n",
    "print ('Number of reviews is %d'%(len(train_reviews)))\n",
    "print ('Number of labels is %d'%(len(train_labels)))"
   ]
  },
  {
   "cell_type": "code",
   "execution_count": 6,
   "metadata": {},
   "outputs": [
    {
     "name": "stdout",
     "output_type": "stream",
     "text": [
      "Number of reviews is 1000\n",
      "Number of labels is 1000\n"
     ]
    }
   ],
   "source": [
    "imdb_dir = './imdb'\n",
    "imdb_test_dir = imdb_dir+'/test'\n",
    "\n",
    "#read positive & negative reviews\n",
    "test_reviews = []\n",
    "test_labels = []\n",
    "test_reviews, test_labels = read_reviews_label(test_reviews, test_labels, imdb_test_dir, 'pos')\n",
    "test_reviews, test_labels = read_reviews_label(test_reviews, test_labels, imdb_test_dir, 'neg')\n",
    "\n",
    "#shuffle the reviews and labels list together so that we have a good mix\n",
    "mapIndexPosition = list(zip(test_reviews, test_labels))\n",
    "random.shuffle(mapIndexPosition)\n",
    "test_reviews, test_labels = zip(*mapIndexPosition)\n",
    "\n",
    "print ('Number of reviews is %d'%(len(test_reviews)))\n",
    "print ('Number of labels is %d'%(len(test_labels)))"
   ]
  },
  {
   "cell_type": "code",
   "execution_count": 7,
   "metadata": {},
   "outputs": [
    {
     "name": "stdout",
     "output_type": "stream",
     "text": [
      "Vocabulary size is 116878 and size of padded train reviews is (25000, 1000)\n",
      "Vocabulary size is 116878 and size of padded test reviews is (1000, 1000)\n"
     ]
    }
   ],
   "source": [
    "word_index, train_padded_reviews, test_padded_reviews, tokenizer = tokenize_document()\n",
    "\n",
    "print ('Vocabulary size is %d and size of padded train reviews is %s'%(len(word_index), train_padded_reviews.shape))\n",
    "print ('Vocabulary size is %d and size of padded test reviews is %s'%(len(word_index), test_padded_reviews.shape))"
   ]
  },
  {
   "cell_type": "markdown",
   "metadata": {},
   "source": [
    "## Step 3: - Define Deep Learning Model using single layered CNN architecture"
   ]
  },
  {
   "cell_type": "markdown",
   "metadata": {},
   "source": [
    "### Step 3.0 - Define Model"
   ]
  },
  {
   "cell_type": "code",
   "execution_count": 8,
   "metadata": {},
   "outputs": [
    {
     "name": "stdout",
     "output_type": "stream",
     "text": [
      "WARNING:tensorflow:From C:\\MachineLearning\\anaconda\\lib\\site-packages\\tensorflow\\python\\framework\\op_def_library.py:263: colocate_with (from tensorflow.python.framework.ops) is deprecated and will be removed in a future version.\n",
      "Instructions for updating:\n",
      "Colocations handled automatically by placer.\n",
      "_________________________________________________________________\n",
      "Layer (type)                 Output Shape              Param #   \n",
      "=================================================================\n",
      "embedding_1 (Embedding)      (None, 1000, 100)         11687900  \n",
      "_________________________________________________________________\n",
      "conv1d_1 (Conv1D)            (None, 994, 16)           11216     \n",
      "_________________________________________________________________\n",
      "max_pooling1d_1 (MaxPooling1 (None, 198, 16)           0         \n",
      "_________________________________________________________________\n",
      "conv1d_2 (Conv1D)            (None, 190, 16)           2320      \n",
      "_________________________________________________________________\n",
      "max_pooling1d_2 (MaxPooling1 (None, 38, 16)            0         \n",
      "_________________________________________________________________\n",
      "global_max_pooling1d_1 (Glob (None, 16)                0         \n",
      "_________________________________________________________________\n",
      "dense_1 (Dense)              (None, 1)                 17        \n",
      "=================================================================\n",
      "Total params: 11,701,453\n",
      "Trainable params: 11,701,453\n",
      "Non-trainable params: 0\n",
      "_________________________________________________________________\n",
      "WARNING:tensorflow:From C:\\MachineLearning\\anaconda\\lib\\site-packages\\tensorflow\\python\\ops\\math_ops.py:3066: to_int32 (from tensorflow.python.ops.math_ops) is deprecated and will be removed in a future version.\n",
      "Instructions for updating:\n",
      "Use tf.cast instead.\n",
      "WARNING:tensorflow:From C:\\MachineLearning\\anaconda\\lib\\site-packages\\tensorflow\\python\\ops\\math_grad.py:102: div (from tensorflow.python.ops.math_ops) is deprecated and will be removed in a future version.\n",
      "Instructions for updating:\n",
      "Deprecated in favor of operator or tf.math.divide.\n",
      "Train on 17500 samples, validate on 7500 samples\n",
      "Epoch 1/5\n",
      "17500/17500 [==============================] - 145s 8ms/step - loss: 0.4429 - acc: 0.7863 - val_loss: 0.2911 - val_acc: 0.8796\n",
      "Epoch 2/5\n",
      "17500/17500 [==============================] - 148s 8ms/step - loss: 0.1943 - acc: 0.9270 - val_loss: 0.3110 - val_acc: 0.8731\n",
      "Epoch 3/5\n",
      "17500/17500 [==============================] - 146s 8ms/step - loss: 0.0877 - acc: 0.9713 - val_loss: 0.3742 - val_acc: 0.8700\n",
      "Epoch 4/5\n",
      "17500/17500 [==============================] - 148s 8ms/step - loss: 0.0289 - acc: 0.9936 - val_loss: 0.4835 - val_acc: 0.8671\n",
      "Epoch 5/5\n",
      "17500/17500 [==============================] - 144s 8ms/step - loss: 0.0075 - acc: 0.9991 - val_loss: 0.5603 - val_acc: 0.8639\n"
     ]
    }
   ],
   "source": [
    "from keras.models import Sequential\n",
    "from keras.layers import Embedding, LSTM, Dense, Flatten, Dropout, Conv1D, MaxPooling1D, GlobalMaxPooling1D\n",
    "from keras.utils.vis_utils import plot_model\n",
    "\n",
    "wemodel = Sequential()\n",
    "\n",
    "wemodel.add(Embedding(input_dim=len(word_index)+1, output_dim=100, input_length=(1000)))\n",
    "\n",
    "wemodel.add(Conv1D(filters=16, kernel_size=7, activation='relu'))\n",
    "wemodel.add(MaxPooling1D(pool_size=5))\n",
    "\n",
    "wemodel.add(Conv1D(filters=16, kernel_size=9, activation='relu'))\n",
    "wemodel.add(MaxPooling1D(pool_size=5))\n",
    "\n",
    "wemodel.add(GlobalMaxPooling1D())\n",
    "\n",
    "wemodel.add(Dense(1, activation='sigmoid'))\n",
    "\n",
    "wemodel.compile(optimizer='adam', loss='binary_crossentropy', metrics=['accuracy'])\n",
    "wemodel.summary()\n",
    "\n",
    "#plot model and save as png file\n",
    "#plot_model(model, to_file='reviews_embedding_model.png', show_shapes=True)\n",
    "\n",
    "#fit the model on training data\n",
    "history = wemodel.fit (train_padded_reviews, train_labels, validation_split=0.3, epochs=5, batch_size=64)"
   ]
  },
  {
   "cell_type": "markdown",
   "metadata": {},
   "source": [
    "### Step 3.1 - Predict Single Layer CNN Model Accuracy on test data"
   ]
  },
  {
   "cell_type": "code",
   "execution_count": 9,
   "metadata": {},
   "outputs": [
    {
     "name": "stdout",
     "output_type": "stream",
     "text": [
      "0.827\n"
     ]
    }
   ],
   "source": [
    "predictedLabels = wemodel.predict_classes(test_padded_reviews)\n",
    "from sklearn.metrics import accuracy_score\n",
    "print (accuracy_score(test_labels, predictedLabels))"
   ]
  },
  {
   "cell_type": "markdown",
   "metadata": {},
   "source": [
    "### Step 3.2 - Save the Model"
   ]
  },
  {
   "cell_type": "code",
   "execution_count": 10,
   "metadata": {},
   "outputs": [],
   "source": [
    "from pickle import dump\n",
    "wemodel.save('movies.reviews.custom.embeddings.model.h5')\n",
    "dump(tokenizer, open('movies.reviews.custom.embeddings.tokenizer.h5','wb'))"
   ]
  },
  {
   "cell_type": "markdown",
   "metadata": {},
   "source": [
    "### Step 3.3 - Visualize Model Performance"
   ]
  },
  {
   "cell_type": "code",
   "execution_count": 11,
   "metadata": {},
   "outputs": [
    {
     "data": {
      "image/png": "[encoded data removed]",
      "text/plain": [
       "<Figure size 432x288 with 1 Axes>"
      ]
     },
     "metadata": {
      "needs_background": "light"
     },
     "output_type": "display_data"
    }
   ],
   "source": [
    "visualize_performance(history)"
   ]
  },
  {
   "cell_type": "markdown",
   "metadata": {},
   "source": [
    "## Step 4: - Define Deep Learning Model using Multi Dimension CNN layered architecture"
   ]
  },
  {
   "cell_type": "markdown",
   "metadata": {},
   "source": [
    "### Step 4.0 - Define Model\n",
    "\n",
    "    - Here we will define a multi layered cnn architecture where each convolusion layer uses a different filter size. Finally before passing the activations to a dense layer we will concatenate the outcome of all of the convolusions\n",
    "    \n",
    "    - Here we find that a multi dimension cnn architecture improves model's accuracy from 82 to 86% - an increase of 4%"
   ]
  },
  {
   "cell_type": "code",
   "execution_count": 12,
   "metadata": {},
   "outputs": [
    {
     "name": "stdout",
     "output_type": "stream",
     "text": [
      "__________________________________________________________________________________________________\n",
      "Layer (type)                    Output Shape         Param #     Connected to                     \n",
      "==================================================================================================\n",
      "input_1 (InputLayer)            (None, 1000)         0                                            \n",
      "__________________________________________________________________________________________________\n",
      "input_2 (InputLayer)            (None, 1000)         0                                            \n",
      "__________________________________________________________________________________________________\n",
      "input_3 (InputLayer)            (None, 1000)         0                                            \n",
      "__________________________________________________________________________________________________\n",
      "embedding_2 (Embedding)         (None, 1000, 100)    11687900    input_1[0][0]                    \n",
      "__________________________________________________________________________________________________\n",
      "embedding_3 (Embedding)         (None, 1000, 100)    11687900    input_2[0][0]                    \n",
      "__________________________________________________________________________________________________\n",
      "embedding_4 (Embedding)         (None, 1000, 100)    11687900    input_3[0][0]                    \n",
      "__________________________________________________________________________________________________\n",
      "conv1d_3 (Conv1D)               (None, 994, 32)      22432       embedding_2[0][0]                \n",
      "__________________________________________________________________________________________________\n",
      "conv1d_4 (Conv1D)               (None, 992, 32)      28832       embedding_3[0][0]                \n",
      "__________________________________________________________________________________________________\n",
      "conv1d_5 (Conv1D)               (None, 989, 100)     120100      embedding_4[0][0]                \n",
      "__________________________________________________________________________________________________\n",
      "max_pooling1d_3 (MaxPooling1D)  (None, 198, 32)      0           conv1d_3[0][0]                   \n",
      "__________________________________________________________________________________________________\n",
      "max_pooling1d_4 (MaxPooling1D)  (None, 198, 32)      0           conv1d_4[0][0]                   \n",
      "__________________________________________________________________________________________________\n",
      "max_pooling1d_5 (MaxPooling1D)  (None, 197, 100)     0           conv1d_5[0][0]                   \n",
      "__________________________________________________________________________________________________\n",
      "global_max_pooling1d_2 (GlobalM (None, 32)           0           max_pooling1d_3[0][0]            \n",
      "__________________________________________________________________________________________________\n",
      "global_max_pooling1d_3 (GlobalM (None, 32)           0           max_pooling1d_4[0][0]            \n",
      "__________________________________________________________________________________________________\n",
      "global_max_pooling1d_4 (GlobalM (None, 100)          0           max_pooling1d_5[0][0]            \n",
      "__________________________________________________________________________________________________\n",
      "concatenate_1 (Concatenate)     (None, 164)          0           global_max_pooling1d_2[0][0]     \n",
      "                                                                 global_max_pooling1d_3[0][0]     \n",
      "                                                                 global_max_pooling1d_4[0][0]     \n",
      "__________________________________________________________________________________________________\n",
      "dense_2 (Dense)                 (None, 1)            165         concatenate_1[0][0]              \n",
      "==================================================================================================\n",
      "Total params: 35,235,229\n",
      "Trainable params: 35,235,229\n",
      "Non-trainable params: 0\n",
      "__________________________________________________________________________________________________\n",
      "Train on 17500 samples, validate on 7500 samples\n",
      "Epoch 1/5\n",
      "17500/17500 [==============================] - 809s 46ms/step - loss: 0.4485 - acc: 0.7865 - val_loss: 0.2996 - val_acc: 0.8727\n",
      "Epoch 2/5\n",
      "17500/17500 [==============================] - 984s 56ms/step - loss: 0.1948 - acc: 0.9287 - val_loss: 0.2954 - val_acc: 0.8791\n",
      "Epoch 3/5\n",
      "17500/17500 [==============================] - 988s 56ms/step - loss: 0.0586 - acc: 0.9861 - val_loss: 0.3540 - val_acc: 0.8772\n",
      "Epoch 4/5\n",
      "17500/17500 [==============================] - 980s 56ms/step - loss: 0.0103 - acc: 0.9991 - val_loss: 0.3928 - val_acc: 0.8783\n",
      "Epoch 5/5\n",
      "17500/17500 [==============================] - 899s 51ms/step - loss: 0.0024 - acc: 1.0000 - val_loss: 0.4294 - val_acc: 0.8771\n"
     ]
    }
   ],
   "source": [
    "from keras.models import Input, Model\n",
    "from keras.layers.merge import concatenate\n",
    "from keras import regularizers\n",
    "\n",
    "def multi_dimension_cnn_model(words_per_review, word_index):\n",
    "    \n",
    "    #channel 1\n",
    "    input1 = Input(shape=(1000,))\n",
    "    embedding1 = Embedding(output_dim=100, input_dim=len(word_index)+1)(input1)\n",
    "    cnn1d1 = Conv1D(filters=32, kernel_size=7, activation='relu')(embedding1)\n",
    "    maxpoold1 = MaxPooling1D(pool_size=5)(cnn1d1)\n",
    "    globalmaxpooling1 = GlobalMaxPooling1D()(maxpoold1)\n",
    "\n",
    "    #channel 2\n",
    "    input2 = Input(shape=(1000,))\n",
    "    embedding2 = Embedding(output_dim=100, input_dim=len(word_index)+1)(input2)\n",
    "    cnn1d2 = Conv1D(filters=32, kernel_size=9, activation='relu')(embedding2)\n",
    "    maxpoold2 = MaxPooling1D(pool_size=5)(cnn1d2)\n",
    "    globalmaxpooling2 = GlobalMaxPooling1D()(maxpoold2)\n",
    "\n",
    "    #channel 3\n",
    "    input3 = Input(shape=(1000,))\n",
    "    embedding3 = Embedding(output_dim=100, input_dim=len(word_index)+1)(input3)\n",
    "    cnn1d3 = Conv1D(filters=100, kernel_size=12, activation='relu')(embedding3)\n",
    "    maxpoold3 = MaxPooling1D(pool_size=5)(cnn1d3)\n",
    "    globalmaxpooling3 = GlobalMaxPooling1D()(maxpoold3)\n",
    "\n",
    "    merge = concatenate([globalmaxpooling1, globalmaxpooling2, globalmaxpooling3])\n",
    "    \n",
    "    outputs = Dense(units=1, activation='sigmoid')(merge)\n",
    "    \n",
    "    multi_dim_model = Model(inputs=[input1, input2, input3], outputs= outputs)\n",
    "    multi_dim_model.compile(optimizer='adam', loss='binary_crossentropy', metrics=['accuracy'])\n",
    "    multi_dim_model.summary()\n",
    "    \n",
    "    return multi_dim_model\n",
    "\n",
    "multi_dim_model = multi_dimension_cnn_model(1000, word_index)\n",
    "\n",
    "multi_dim_model_history = multi_dim_model.fit ([train_padded_reviews,train_padded_reviews,train_padded_reviews], train_labels, validation_split=0.3, epochs=5, batch_size=64)\n"
   ]
  },
  {
   "cell_type": "markdown",
   "metadata": {},
   "source": [
    "### Step 4.1 - Predict Multi Layer CNN Model Accuracy on test data"
   ]
  },
  {
   "cell_type": "code",
   "execution_count": 13,
   "metadata": {},
   "outputs": [
    {
     "name": "stdout",
     "output_type": "stream",
     "text": [
      "1000/1000 [==============================] - 7s 7ms/step\n",
      "Accuracy on testing data is 86 (percent)\n"
     ]
    }
   ],
   "source": [
    "_,acc = multi_dim_model.evaluate([test_padded_reviews,test_padded_reviews,test_padded_reviews], np.array(test_labels))\n",
    "print ('Accuracy on testing data is %d (percent)'%(acc*100))"
   ]
  },
  {
   "cell_type": "markdown",
   "metadata": {},
   "source": [
    "### Step 4.2 - Save the Model"
   ]
  },
  {
   "cell_type": "code",
   "execution_count": 14,
   "metadata": {},
   "outputs": [],
   "source": [
    "from pickle import dump\n",
    "multi_dim_model.save('movies.reviews.custom.embeddings.multi.dim.model.h5')\n",
    "dump(tokenizer, open('movies.reviews.custom.embeddings.multi.dim.tokenizer.h5','wb'))"
   ]
  },
  {
   "cell_type": "markdown",
   "metadata": {},
   "source": [
    "### Step 4.3 - Visualize Model Performance"
   ]
  },
  {
   "cell_type": "code",
   "execution_count": 15,
   "metadata": {},
   "outputs": [
    {
     "data": {
      "image/png": "[encoded data removed]",
      "text/plain": [
       "<Figure size 432x288 with 1 Axes>"
      ]
     },
     "metadata": {
      "needs_background": "light"
     },
     "output_type": "display_data"
    }
   ],
   "source": [
    "visualize_performance(multi_dim_model_history)"
   ]
  },
  {
   "cell_type": "markdown",
   "metadata": {},
   "source": [
    "## Step 5 - Prove Quality of Word Embeddings\n",
    "\n",
    "### Create Matrix of Word Embeddings in our Vocab\n",
    "\n",
    "    - Read words from our word dictionary\n",
    "    - Read the embeddings weights from the embedding layer\n",
    "    - For each word in the dictionary read it's embedding weight and add to a dictionary"
   ]
  },
  {
   "cell_type": "code",
   "execution_count": 16,
   "metadata": {},
   "outputs": [
    {
     "name": "stdout",
     "output_type": "stream",
     "text": [
      "Shape of weights from embedding layer is  (116879, 100)\n",
      "Size of vocab is  116878\n"
     ]
    }
   ],
   "source": [
    "import numpy as np\n",
    "embeddings_index = {}\n",
    "\n",
    "# get weights from the embedding layer\n",
    "embeddings = wemodel.layers[0].get_weights()[0]\n",
    "\n",
    "print ('Shape of weights from embedding layer is ', embeddings.shape)\n",
    "print ('Size of vocab is ', len(word_index))\n",
    "\n",
    "for word, i in word_index.items():\n",
    "    if (i<len(embeddings)):\n",
    "        embeddings_index[word] =  embeddings[i]"
   ]
  },
  {
   "cell_type": "markdown",
   "metadata": {},
   "source": [
    "#### Step 4.1 - Save the Reviews Embedding"
   ]
  },
  {
   "cell_type": "code",
   "execution_count": 17,
   "metadata": {},
   "outputs": [],
   "source": [
    "def save_list (p_embeddings, filename):\n",
    "    #open file\n",
    "    file = open (filename, 'w', encoding='utf-8')\n",
    "    \n",
    "    for word, i in word_index.items():\n",
    "        if (i<len(embeddings)):\n",
    "            embed = embeddings[i, :]\n",
    "            file.write('%s %s\\n' % (word, ' '.join(map(str, embed))))\n",
    "        \n",
    "    #close file\n",
    "    file.close()\n",
    "    \n",
    "save_list(embeddings_index, 'custom.movie.reviews.embeddings.100D.txt')"
   ]
  },
  {
   "cell_type": "markdown",
   "metadata": {},
   "source": [
    "## Step 5 - Reload the saved embeddings and train fresh model using it"
   ]
  },
  {
   "cell_type": "code",
   "execution_count": 18,
   "metadata": {},
   "outputs": [
    {
     "name": "stdout",
     "output_type": "stream",
     "text": [
      "Found 116878 word embeddings\n"
     ]
    }
   ],
   "source": [
    "embedding_dir = './'\n",
    "loaded_embeddings_matrix = {}\n",
    "\n",
    "f = open ('custom.movie.reviews.embeddings.100D.txt','r', encoding='utf-8')\n",
    "for line in f:\n",
    "    values = line.split()\n",
    "    word = values[0]\n",
    "    coefs = np.asarray(values[1:])\n",
    "    loaded_embeddings_matrix[word]=coefs\n",
    "\n",
    "f.close()\n",
    "print ('Found %s word embeddings'%(len(loaded_embeddings_matrix)))"
   ]
  },
  {
   "cell_type": "markdown",
   "metadata": {},
   "source": [
    "#### Step 5.1 -  Retrain model on loaded embeddings\n",
    "\n",
    "    - If the new model gives similar performance (in terms of accuracy) while using the saved embeddings; then it validates\n",
    "    the fact that our word embedding is good and can be used across variety of other natural language processing problems in the movie review space\n",
    "    - In first run we found that if we use the pre-learned embeddings and DO NOT train the embedding layer again then the accuracy of the model comes around 76% which is around 6% lesser.\n",
    "    - In second run we found that if we use the pre-learning embeddings and DO train the embedding layer again then the accuracy of the model comes around 85.8%."
   ]
  },
  {
   "cell_type": "code",
   "execution_count": 25,
   "metadata": {},
   "outputs": [
    {
     "name": "stdout",
     "output_type": "stream",
     "text": [
      "_________________________________________________________________\n",
      "Layer (type)                 Output Shape              Param #   \n",
      "=================================================================\n",
      "embedding_7 (Embedding)      (None, 1000, 100)         11687900  \n",
      "_________________________________________________________________\n",
      "conv1d_10 (Conv1D)           (None, 994, 16)           11216     \n",
      "_________________________________________________________________\n",
      "max_pooling1d_10 (MaxPooling (None, 198, 16)           0         \n",
      "_________________________________________________________________\n",
      "conv1d_11 (Conv1D)           (None, 190, 16)           2320      \n",
      "_________________________________________________________________\n",
      "max_pooling1d_11 (MaxPooling (None, 38, 16)            0         \n",
      "_________________________________________________________________\n",
      "global_max_pooling1d_7 (Glob (None, 16)                0         \n",
      "_________________________________________________________________\n",
      "dense_5 (Dense)              (None, 1)                 17        \n",
      "=================================================================\n",
      "Total params: 11,701,453\n",
      "Trainable params: 11,701,453\n",
      "Non-trainable params: 0\n",
      "_________________________________________________________________\n",
      "Train on 17500 samples, validate on 7500 samples\n",
      "Epoch 1/5\n",
      "17500/17500 [==============================] - 143s 8ms/step - loss: 0.4499 - acc: 0.7777 - val_loss: 0.2917 - val_acc: 0.8775\n",
      "Epoch 2/5\n",
      "17500/17500 [==============================] - 143s 8ms/step - loss: 0.1990 - acc: 0.9270 - val_loss: 0.2923 - val_acc: 0.8797\n",
      "Epoch 3/5\n",
      "17500/17500 [==============================] - 141s 8ms/step - loss: 0.0917 - acc: 0.9726 - val_loss: 0.3644 - val_acc: 0.8741\n",
      "Epoch 4/5\n",
      "17500/17500 [==============================] - 141s 8ms/step - loss: 0.0285 - acc: 0.9944 - val_loss: 0.4871 - val_acc: 0.8713\n",
      "Epoch 5/5\n",
      "17500/17500 [==============================] - 142s 8ms/step - loss: 0.0064 - acc: 0.9992 - val_loss: 0.5600 - val_acc: 0.8708\n",
      "Accuracy while reusing embeddings is  0.858\n"
     ]
    }
   ],
   "source": [
    "from keras.models import Sequential\n",
    "from keras.layers import Embedding, Flatten, Dense\n",
    "from keras.utils.vis_utils import plot_model\n",
    "\n",
    "new_model = Sequential()\n",
    "new_model.add(Embedding(input_dim=(len(word_index)+1), output_dim=100, input_length=(1000)))\n",
    "\n",
    "new_model.add(Conv1D(filters=16, kernel_size=7, activation='relu'))\n",
    "new_model.add(MaxPooling1D(pool_size=5))\n",
    "\n",
    "new_model.add(Conv1D(filters=16, kernel_size=9, activation='relu'))\n",
    "new_model.add(MaxPooling1D(pool_size=5))\n",
    "\n",
    "new_model.add(GlobalMaxPooling1D())\n",
    "\n",
    "new_model.layers[0].set_weights = ([loaded_embeddings_matrix])\n",
    "new_model.layers[0].trainable = True\n",
    "\n",
    "new_model.add(Dense(1, activation='sigmoid'))\n",
    "\n",
    "new_model.compile(optimizer='adam', loss='binary_crossentropy', metrics=['accuracy'])\n",
    "new_model.summary()\n",
    "\n",
    "#plot model and save as png file\n",
    "#plot_model(model, to_file='reviews_embedding_model.png', show_shapes=True)\n",
    "\n",
    "#fit the model on training data\n",
    "history = new_model.fit (train_padded_reviews, train_labels, validation_split=0.3, epochs=5, batch_size=64)\n",
    "\n",
    "new_model_predicted_labels = new_model.predict_classes(test_padded_reviews)\n",
    "print ('Accuracy while reusing embeddings is ',(accuracy_score(test_labels, new_model_predicted_labels)))"
   ]
  },
  {
   "cell_type": "markdown",
   "metadata": {},
   "source": [
    "#### Step 5.2 BatchNormalization layer on the same model"
   ]
  },
  {
   "cell_type": "code",
   "execution_count": 27,
   "metadata": {},
   "outputs": [
    {
     "name": "stdout",
     "output_type": "stream",
     "text": [
      "_________________________________________________________________\n",
      "Layer (type)                 Output Shape              Param #   \n",
      "=================================================================\n",
      "embedding_9 (Embedding)      (None, 1000, 100)         11687900  \n",
      "_________________________________________________________________\n",
      "conv1d_13 (Conv1D)           (None, 994, 16)           11216     \n",
      "_________________________________________________________________\n",
      "batch_normalization_1 (Batch (None, 994, 16)           64        \n",
      "_________________________________________________________________\n",
      "max_pooling1d_12 (MaxPooling (None, 198, 16)           0         \n",
      "_________________________________________________________________\n",
      "conv1d_14 (Conv1D)           (None, 190, 16)           2320      \n",
      "_________________________________________________________________\n",
      "batch_normalization_2 (Batch (None, 190, 16)           64        \n",
      "_________________________________________________________________\n",
      "max_pooling1d_13 (MaxPooling (None, 38, 16)            0         \n",
      "_________________________________________________________________\n",
      "global_max_pooling1d_8 (Glob (None, 16)                0         \n",
      "_________________________________________________________________\n",
      "dense_6 (Dense)              (None, 1)                 17        \n",
      "=================================================================\n",
      "Total params: 11,701,581\n",
      "Trainable params: 11,701,517\n",
      "Non-trainable params: 64\n",
      "_________________________________________________________________\n",
      "Train on 17500 samples, validate on 7500 samples\n",
      "Epoch 1/5\n",
      "17500/17500 [==============================] - 148s 8ms/step - loss: 0.5167 - acc: 0.7406 - val_loss: 0.4164 - val_acc: 0.8200\n",
      "Epoch 2/5\n",
      "17500/17500 [==============================] - 146s 8ms/step - loss: 0.1043 - acc: 0.9642 - val_loss: 0.4201 - val_acc: 0.8240\n",
      "Epoch 3/5\n",
      "17500/17500 [==============================] - 147s 8ms/step - loss: 0.0389 - acc: 0.9865 - val_loss: 0.6448 - val_acc: 0.8167\n",
      "Epoch 4/5\n",
      "17500/17500 [==============================] - 146s 8ms/step - loss: 0.0568 - acc: 0.9785 - val_loss: 0.5527 - val_acc: 0.8420\n",
      "Epoch 5/5\n",
      "17500/17500 [==============================] - 146s 8ms/step - loss: 0.0384 - acc: 0.9861 - val_loss: 0.6004 - val_acc: 0.8316\n",
      "Accuracy while reusing embeddings with batch normalization is  0.812\n"
     ]
    }
   ],
   "source": [
    "from keras.models import Sequential\n",
    "from keras.layers import Embedding, Flatten, Dense, BatchNormalization\n",
    "from keras.utils.vis_utils import plot_model\n",
    "\n",
    "batch_norm_model = Sequential()\n",
    "batch_norm_model.add(Embedding(input_dim=(len(word_index)+1), output_dim=100, input_length=(1000)))\n",
    "\n",
    "batch_norm_model.add(Conv1D(filters=16, kernel_size=7, activation='relu'))\n",
    "batch_norm_model.add(BatchNormalization())\n",
    "batch_norm_model.add(MaxPooling1D(pool_size=5))\n",
    "\n",
    "batch_norm_model.add(Conv1D(filters=16, kernel_size=9, activation='relu'))\n",
    "batch_norm_model.add(BatchNormalization())\n",
    "batch_norm_model.add(MaxPooling1D(pool_size=5))\n",
    "\n",
    "batch_norm_model.add(GlobalMaxPooling1D())\n",
    "\n",
    "batch_norm_model.layers[0].set_weights = ([loaded_embeddings_matrix])\n",
    "batch_norm_model.layers[0].trainable = True\n",
    "\n",
    "batch_norm_model.add(Dense(1, activation='sigmoid'))\n",
    "\n",
    "batch_norm_model.compile(optimizer='adam', loss='binary_crossentropy', metrics=['accuracy'])\n",
    "batch_norm_model.summary()\n",
    "\n",
    "#plot model and save as png file\n",
    "#plot_model(model, to_file='reviews_embedding_model.png', show_shapes=True)\n",
    "\n",
    "#fit the model on training data\n",
    "history = batch_norm_model.fit (train_padded_reviews, train_labels, validation_split=0.3, epochs=5, batch_size=64)\n",
    "\n",
    "batch_norm_model_predicted_labels = batch_norm_model.predict_classes(test_padded_reviews)\n",
    "print ('Accuracy while reusing embeddings with batch normalization is ',(accuracy_score(test_labels, batch_norm_model_predicted_labels)))"
   ]
  },
  {
   "cell_type": "markdown",
   "metadata": {},
   "source": [
    "# Leverage Embeddings to find similar words"
   ]
  },
  {
   "cell_type": "code",
   "execution_count": 20,
   "metadata": {},
   "outputs": [
    {
     "data": {
      "text/plain": [
       "(116878, 100)"
      ]
     },
     "execution_count": 20,
     "metadata": {},
     "output_type": "execute_result"
    }
   ],
   "source": [
    "from gensim.scripts.glove2word2vec import glove2word2vec\n",
    "\n",
    "#load the GloVe word embeddings file which has a 100 dimension representation for each word. Convert that into a word2vec supported format\n",
    "glove2word2vec('custom.movie.reviews.embeddings.100D.txt','word2vec.custom.movie.reviews.embeddings.100D.txt')"
   ]
  },
  {
   "cell_type": "code",
   "execution_count": 21,
   "metadata": {},
   "outputs": [],
   "source": [
    "from gensim.models import KeyedVectors\n",
    "\n",
    "# load the wordvec file\n",
    "lword2vecmodel = KeyedVectors.load_word2vec_format('word2vec.custom.movie.reviews.embeddings.100D.txt')"
   ]
  },
  {
   "cell_type": "code",
   "execution_count": 22,
   "metadata": {},
   "outputs": [
    {
     "name": "stdout",
     "output_type": "stream",
     "text": [
      "[('mess', 0.8647243976593018), ('appalling', 0.8585390448570251), ('dreadful', 0.8574624061584473), ('connect', 0.8541508913040161), ('disappointment', 0.8540365695953369), ('advance', 0.8538570404052734), ('depicting', 0.8527896404266357), ('evoke', 0.8502072095870972), ('mocking', 0.8485549092292786), ('shameless', 0.8483148217201233)]\n"
     ]
    }
   ],
   "source": [
    "# most similar words\n",
    "print (lword2vecmodel.most_similar(['awful']))"
   ]
  },
  {
   "cell_type": "markdown",
   "metadata": {},
   "source": [
    "#### Visualize embeddings using PCA\n",
    "\n",
    "    - In tour word embedding there are some 80K words with 100 dimensional embedding. We will select just 50 words and try to visualize them after doing a dimension reduction via PCA"
   ]
  },
  {
   "cell_type": "code",
   "execution_count": 23,
   "metadata": {},
   "outputs": [
    {
     "name": "stderr",
     "output_type": "stream",
     "text": [
      "C:\\MachineLearning\\anaconda\\lib\\site-packages\\ipykernel_launcher.py:1: DeprecationWarning: Call to deprecated `wv` (Attribute will be removed in 4.0.0, use self instead).\n",
      "  \"\"\"Entry point for launching an IPython kernel.\n"
     ]
    },
    {
     "data": {
      "image/png": "[encoded data removed]",
      "text/plain": [
       "<Figure size 1080x1080 with 1 Axes>"
      ]
     },
     "metadata": {
      "needs_background": "light"
     },
     "output_type": "display_data"
    }
   ],
   "source": [
    "lvocab = lword2vecmodel.wv.vocab\n",
    "words = []\n",
    "for i, word in enumerate(lvocab):\n",
    "    words.append(word)\n",
    "\n",
    "X = lword2vecmodel[lvocab]\n",
    "\n",
    "from sklearn.decomposition import PCA\n",
    "import matplotlib.pyplot as plt\n",
    "%matplotlib inline\n",
    "\n",
    "z = PCA(n_components=2)\n",
    "pca_model = z.fit(X)\n",
    "components = pca_model.transform(X)\n",
    "\n",
    "num_words_to_show=50\n",
    "\n",
    "plt.figure(figsize=(15,15))\n",
    "plt.scatter(components[0:num_words_to_show,0],components[0:num_words_to_show,1])\n",
    "for i in range(0, num_words_to_show):\n",
    "    plt.annotate(words[i], xy=(components[i,0],components[i,1]))\n",
    "plt.show()"
   ]
  },
  {
   "cell_type": "code",
   "execution_count": null,
   "metadata": {},
   "outputs": [],
   "source": []
  }
 ],
 "metadata": {
  "kernelspec": {
   "display_name": "Python 3",
   "language": "python",
   "name": "python3"
  },
  "language_info": {
   "codemirror_mode": {
    "name": "ipython",
    "version": 3
   },
   "file_extension": ".py",
   "mimetype": "text/x-python",
   "name": "python",
   "nbconvert_exporter": "python",
   "pygments_lexer": "ipython3",
   "version": "3.7.3"
  }
 },
 "nbformat": 4,
 "nbformat_minor": 2
}
